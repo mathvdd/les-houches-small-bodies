{
 "cells": [
  {
   "cell_type": "markdown",
   "id": "fc0ace94-1576-4a20-9ca0-29470aad41db",
   "metadata": {},
   "source": [
    "# Programmatic Access of Spectroscopic Data\n",
    "\n",
    "In this tutorial, we add another access protocol to our tool belt: the [Table\n",
    "Access Protocol](https://www.ivoa.net/documents/TAP/) (TAP). This protocol is a\n",
    "Virtual-Observatory service for accessing tables via an SQL-like query language\n",
    "called ADQL (Astronomical Data Query Language -\n",
    "see the [CDS tutorial](http://cdsportal.u-strasbg.fr/adqltuto/)).\n",
    "Many astronomical data services\n",
    "are accessible via TAP, such as the ESA planetary science archive and the CDS\n",
    "Vizier and Simbad databases.\n",
    "\n",
    "TAP queries can be executed with standard graphical user interfaces such as\n",
    "TOPCAT and Aladin. In this tutorial, we look once again at the programmatic\n",
    "approach, using the [`pyvo`](https://pyvo.readthedocs.io/en/latest/) package.\n",
    "We will access the [SSHADE](https://sshade.eu) database of laboratory spectra.\n",
    "\n",
    "## Access of SSHADE database via TAP\n",
    "\n",
    "The SSHADE database does not have an API to access the spectra files directly.\n",
    "However, the metadata of these spectra (including, in particular, the download\n",
    "URL) is accessible via TAP. We start by connecting to the service using `pyvo`."
   ]
  },
  {
   "cell_type": "code",
   "execution_count": 1,
   "id": "49338393-0f6d-4a5c-9e1a-fdbb12731ed4",
   "metadata": {},
   "outputs": [
    {
     "name": "stderr",
     "output_type": "stream",
     "text": [
      "WARNING: UnitsWarning: Unit 'bar' not supported by the VOUnit standard. Did you mean 1e-28m**2, Ba (deprecated), aR, barn (deprecated) or g.cm**-1.s**-2? [astropy.units.format.vounit]\n"
     ]
    },
    {
     "name": "stdout",
     "output_type": "stream",
     "text": [
      "Retrieved metadata of 6324 spectra from SSHADE\n"
     ]
    }
   ],
   "source": [
    "import pyvo as vo\n",
    "\n",
    "service = vo.dal.TAPService(\"http://osug-vo.osug.fr:8080/tap\")\n",
    "sshade = service.search(\"SELECT * FROM sshade_spectra.epn_core\")  # get all entries of SSHADE metadata\n",
    "sshade = sshade.to_table().to_pandas()  # convert the resulting object to a pandas DataFrame\n",
    "print(f\"Retrieved metadata of {len(sshade)} spectra from SSHADE\")"
   ]
  },
  {
   "cell_type": "markdown",
   "id": "49f9e4ad",
   "metadata": {},
   "source": [
    "The URL of the service you want to connect to is typically given on its\n",
    "website. In SSHADE's case, neither the URL nor the server response are\n",
    "documented on the webpage. To prepare this tutorial, we instead got the\n",
    "information by looking at how [TOPCAT](https://www.star.bris.ac.uk/~mbt/topcat/)\n",
    "connects to SSHADE. Besides the URL, this\n",
    "also tells us which table we have to query, which we do below. The `SELECT *\n",
    "FROM ...` syntax is the aforementioned ADQL language.\n",
    "\n",
    "<div>\n",
    "  <center>\n",
    "    <img src=\"../06-Conclusion/gfx/topcat_sshade.png\" width=\"800\"/>\n",
    "  </center>\n",
    "</div>\n",
    "\n",
    "So, what did we just retrieve? Let's inspect."
   ]
  },
  {
   "cell_type": "code",
   "execution_count": 2,
   "id": "021553a0",
   "metadata": {},
   "outputs": [
    {
     "name": "stdout",
     "output_type": "stream",
     "text": [
      "Index(['granule_uid', 'granule_gid', 'obs_id', 'dataproduct_type',\n",
      "       'target_name', 'target_class', 'time_min', 'time_max',\n",
      "       'time_sampling_step_min', 'time_sampling_step_max', 'time_exp_min',\n",
      "       'time_exp_max', 'spectral_range_min', 'spectral_range_max',\n",
      "       'spectral_sampling_step_min', 'spectral_sampling_step_max',\n",
      "       'spectral_resolution_min', 'spectral_resolution_max', 'c1min', 'c1max',\n",
      "       'c2min', 'c2max', 'c3min', 'c3max', 's_region', 'c1_resol_min',\n",
      "       'c1_resol_max', 'c2_resol_min', 'c2_resol_max', 'c3_resol_min',\n",
      "       'c3_resol_max', 'spatial_frame_type', 'incidence_min', 'incidence_max',\n",
      "       'emergence_min', 'emergence_max', 'phase_min', 'phase_max',\n",
      "       'instrument_host_name', 'instrument_name', 'measurement_type',\n",
      "       'processing_level', 'creation_date', 'modification_date',\n",
      "       'release_date', 'service_title', 'access_url', 'access_format',\n",
      "       'access_estsize', 'access_md5', 'time_scale', 'thumbnail_url',\n",
      "       'publisher', 'bib_reference', 'file_name', 'target_region',\n",
      "       'feature_name', 'alt_target_name', 'species',\n",
      "       'spatial_coordinate_description', 'producer_name', 'external_link',\n",
      "       'internal_reference', 'producer_institute', 'sample_classification',\n",
      "       'grain_size_min', 'grain_size_max', 'waveband', 'sample_desc',\n",
      "       'data_calibration_desc', 'geometry_type', 'target_distance_min',\n",
      "       'target_distance_max', 'azimuth_min', 'azimuth_max',\n",
      "       'measurement_atmosphere', 'pressure', 'temperature', 'species_name',\n",
      "       'species_inchikey', 'filter'],\n",
      "      dtype='object')\n"
     ]
    },
    {
     "data": {
      "text/html": [
       "<div>\n",
       "<style scoped>\n",
       "    .dataframe tbody tr th:only-of-type {\n",
       "        vertical-align: middle;\n",
       "    }\n",
       "\n",
       "    .dataframe tbody tr th {\n",
       "        vertical-align: top;\n",
       "    }\n",
       "\n",
       "    .dataframe thead th {\n",
       "        text-align: right;\n",
       "    }\n",
       "</style>\n",
       "<table border=\"1\" class=\"dataframe\">\n",
       "  <thead>\n",
       "    <tr style=\"text-align: right;\">\n",
       "      <th></th>\n",
       "      <th>granule_uid</th>\n",
       "      <th>granule_gid</th>\n",
       "      <th>obs_id</th>\n",
       "      <th>dataproduct_type</th>\n",
       "      <th>target_name</th>\n",
       "      <th>target_class</th>\n",
       "      <th>time_min</th>\n",
       "      <th>time_max</th>\n",
       "      <th>time_sampling_step_min</th>\n",
       "      <th>time_sampling_step_max</th>\n",
       "      <th>...</th>\n",
       "      <th>target_distance_min</th>\n",
       "      <th>target_distance_max</th>\n",
       "      <th>azimuth_min</th>\n",
       "      <th>azimuth_max</th>\n",
       "      <th>measurement_atmosphere</th>\n",
       "      <th>pressure</th>\n",
       "      <th>temperature</th>\n",
       "      <th>species_name</th>\n",
       "      <th>species_inchikey</th>\n",
       "      <th>filter</th>\n",
       "    </tr>\n",
       "  </thead>\n",
       "  <tbody>\n",
       "    <tr>\n",
       "      <th>0</th>\n",
       "      <td>SPECTRUM_DT_20170706_006</td>\n",
       "      <td>EXPERIMENT_DT_20170706_006</td>\n",
       "      <td>SPECTRUM_DT_20170706_006</td>\n",
       "      <td>sp</td>\n",
       "      <td></td>\n",
       "      <td>sample</td>\n",
       "      <td>2457515.5</td>\n",
       "      <td>2457515.5</td>\n",
       "      <td>NaN</td>\n",
       "      <td>NaN</td>\n",
       "      <td>...</td>\n",
       "      <td>NaN</td>\n",
       "      <td>NaN</td>\n",
       "      <td>NaN</td>\n",
       "      <td>NaN</td>\n",
       "      <td>ambient air#293.0 K#100000.0 bar</td>\n",
       "      <td>NaN</td>\n",
       "      <td>293.00</td>\n",
       "      <td></td>\n",
       "      <td></td>\n",
       "      <td></td>\n",
       "    </tr>\n",
       "    <tr>\n",
       "      <th>1</th>\n",
       "      <td>SPECTRUM_GS_20161207_001</td>\n",
       "      <td>EXPERIMENT_GS_20161207_001</td>\n",
       "      <td>SPECTRUM_GS_20161207_001</td>\n",
       "      <td>sp</td>\n",
       "      <td></td>\n",
       "      <td>sample</td>\n",
       "      <td>2456658.5</td>\n",
       "      <td>2456658.5</td>\n",
       "      <td>NaN</td>\n",
       "      <td>NaN</td>\n",
       "      <td>...</td>\n",
       "      <td>NaN</td>\n",
       "      <td>NaN</td>\n",
       "      <td>NaN</td>\n",
       "      <td>NaN</td>\n",
       "      <td>ambient air#293.0 K#100000.0 bar</td>\n",
       "      <td>NaN</td>\n",
       "      <td>293.00</td>\n",
       "      <td></td>\n",
       "      <td></td>\n",
       "      <td></td>\n",
       "    </tr>\n",
       "    <tr>\n",
       "      <th>2</th>\n",
       "      <td>SPECTRUM_DT_20161207_002_2</td>\n",
       "      <td>EXPERIMENT_DT_20161207_001.2</td>\n",
       "      <td>SPECTRUM_DT_20161207_002_2</td>\n",
       "      <td>sp</td>\n",
       "      <td></td>\n",
       "      <td>sample</td>\n",
       "      <td>2453862.5</td>\n",
       "      <td>2453862.5</td>\n",
       "      <td>NaN</td>\n",
       "      <td>NaN</td>\n",
       "      <td>...</td>\n",
       "      <td>NaN</td>\n",
       "      <td>NaN</td>\n",
       "      <td>NaN</td>\n",
       "      <td>NaN</td>\n",
       "      <td>ambient air#293.15 C#100000.0 bar</td>\n",
       "      <td>500.0</td>\n",
       "      <td>293.15</td>\n",
       "      <td></td>\n",
       "      <td>XLYOFNOQVPJJNP-UHFFFAOYSA-N</td>\n",
       "      <td></td>\n",
       "    </tr>\n",
       "    <tr>\n",
       "      <th>3</th>\n",
       "      <td>SPECTRUM_DT_20161207_003_4</td>\n",
       "      <td>EXPERIMENT_DT_20161207_001.2</td>\n",
       "      <td>SPECTRUM_DT_20161207_003_4</td>\n",
       "      <td>sp</td>\n",
       "      <td></td>\n",
       "      <td>sample</td>\n",
       "      <td>2453862.5</td>\n",
       "      <td>2453862.5</td>\n",
       "      <td>NaN</td>\n",
       "      <td>NaN</td>\n",
       "      <td>...</td>\n",
       "      <td>NaN</td>\n",
       "      <td>NaN</td>\n",
       "      <td>NaN</td>\n",
       "      <td>NaN</td>\n",
       "      <td>ambient air#293.15 C#100000.0 bar</td>\n",
       "      <td>500.0</td>\n",
       "      <td>293.15</td>\n",
       "      <td></td>\n",
       "      <td>XLYOFNOQVPJJNP-UHFFFAOYSA-N</td>\n",
       "      <td></td>\n",
       "    </tr>\n",
       "    <tr>\n",
       "      <th>4</th>\n",
       "      <td>SPECTRUM_DT_20161207_007_4</td>\n",
       "      <td>EXPERIMENT_DT_20161207_001.2</td>\n",
       "      <td>SPECTRUM_DT_20161207_007_4</td>\n",
       "      <td>sp</td>\n",
       "      <td></td>\n",
       "      <td>sample</td>\n",
       "      <td>2453862.5</td>\n",
       "      <td>2453862.5</td>\n",
       "      <td>NaN</td>\n",
       "      <td>NaN</td>\n",
       "      <td>...</td>\n",
       "      <td>NaN</td>\n",
       "      <td>NaN</td>\n",
       "      <td>NaN</td>\n",
       "      <td>NaN</td>\n",
       "      <td>ambient air#293.15 C#100000.0 bar</td>\n",
       "      <td>500.0</td>\n",
       "      <td>293.15</td>\n",
       "      <td></td>\n",
       "      <td>XLYOFNOQVPJJNP-UHFFFAOYSA-N</td>\n",
       "      <td></td>\n",
       "    </tr>\n",
       "  </tbody>\n",
       "</table>\n",
       "<p>5 rows × 81 columns</p>\n",
       "</div>"
      ],
      "text/plain": [
       "                  granule_uid                   granule_gid  \\\n",
       "0    SPECTRUM_DT_20170706_006    EXPERIMENT_DT_20170706_006   \n",
       "1    SPECTRUM_GS_20161207_001    EXPERIMENT_GS_20161207_001   \n",
       "2  SPECTRUM_DT_20161207_002_2  EXPERIMENT_DT_20161207_001.2   \n",
       "3  SPECTRUM_DT_20161207_003_4  EXPERIMENT_DT_20161207_001.2   \n",
       "4  SPECTRUM_DT_20161207_007_4  EXPERIMENT_DT_20161207_001.2   \n",
       "\n",
       "                       obs_id dataproduct_type target_name target_class  \\\n",
       "0    SPECTRUM_DT_20170706_006               sp                   sample   \n",
       "1    SPECTRUM_GS_20161207_001               sp                   sample   \n",
       "2  SPECTRUM_DT_20161207_002_2               sp                   sample   \n",
       "3  SPECTRUM_DT_20161207_003_4               sp                   sample   \n",
       "4  SPECTRUM_DT_20161207_007_4               sp                   sample   \n",
       "\n",
       "    time_min   time_max  time_sampling_step_min  time_sampling_step_max  ...  \\\n",
       "0  2457515.5  2457515.5                     NaN                     NaN  ...   \n",
       "1  2456658.5  2456658.5                     NaN                     NaN  ...   \n",
       "2  2453862.5  2453862.5                     NaN                     NaN  ...   \n",
       "3  2453862.5  2453862.5                     NaN                     NaN  ...   \n",
       "4  2453862.5  2453862.5                     NaN                     NaN  ...   \n",
       "\n",
       "   target_distance_min  target_distance_max  azimuth_min  azimuth_max  \\\n",
       "0                  NaN                  NaN          NaN          NaN   \n",
       "1                  NaN                  NaN          NaN          NaN   \n",
       "2                  NaN                  NaN          NaN          NaN   \n",
       "3                  NaN                  NaN          NaN          NaN   \n",
       "4                  NaN                  NaN          NaN          NaN   \n",
       "\n",
       "              measurement_atmosphere  pressure  temperature  species_name  \\\n",
       "0   ambient air#293.0 K#100000.0 bar       NaN       293.00                 \n",
       "1   ambient air#293.0 K#100000.0 bar       NaN       293.00                 \n",
       "2  ambient air#293.15 C#100000.0 bar     500.0       293.15                 \n",
       "3  ambient air#293.15 C#100000.0 bar     500.0       293.15                 \n",
       "4  ambient air#293.15 C#100000.0 bar     500.0       293.15                 \n",
       "\n",
       "              species_inchikey  filter  \n",
       "0                                       \n",
       "1                                       \n",
       "2  XLYOFNOQVPJJNP-UHFFFAOYSA-N          \n",
       "3  XLYOFNOQVPJJNP-UHFFFAOYSA-N          \n",
       "4  XLYOFNOQVPJJNP-UHFFFAOYSA-N          \n",
       "\n",
       "[5 rows x 81 columns]"
      ]
     },
     "execution_count": 2,
     "metadata": {},
     "output_type": "execute_result"
    }
   ],
   "source": [
    "print(sshade.columns)\n",
    "sshade.head()"
   ]
  },
  {
   "cell_type": "markdown",
   "id": "355bd57d",
   "metadata": {},
   "source": [
    "We see a large number of metadata columns. Each column refers to one spectrum on the SSHADE platform.\n",
    "\n",
    "Regarding the column names, some are self-explanatory, while others are more cryptic.\n",
    "Most relevant for us are:\n",
    "\n",
    "- `granule_uid` - A unique identifier for each spectra\n",
    "- `granule_gid` - A unique identifier for each experiment that submitted spectra (information on the SSHADE webpage)\n",
    "- `access_url` - The URL to the spectrum file itself\n",
    "- `sample_classification` - Metadata of the measure sample"
   ]
  },
  {
   "cell_type": "markdown",
   "id": "37b317cf",
   "metadata": {},
   "source": [
    "The SSHADE table follows the [Europlanet TAP standard](http://www.europlanet-vespa.eu/standards.shtml),\n",
    "which is a pre-defined set of columns for TAP service tables. The benefit of this protocol is the uniform\n",
    "connection interface to a large number of services: No matter which type of data you query, you can expect\n",
    "certain columns to be present. On the other hand, as is common with standards, they can lead to odd results for\n",
    "an individual service. The odd result for SSHADE is that all the metadata of the sample (arguably\n",
    "the most important information) is packed into a single column called `sample_classification`. "
   ]
  },
  {
   "cell_type": "code",
   "execution_count": 3,
   "id": "a79cc082",
   "metadata": {},
   "outputs": [
    {
     "data": {
      "text/plain": [
       "0       metallic Fe#metallic solid#metal#crystalline#F...\n",
       "1       metallic Ag#metallic solid#elemental solid#cry...\n",
       "2       Iron ferrous solution in hydrothermal conditio...\n",
       "3       Iron ferrous solution in hydrothermal conditio...\n",
       "4       Iron ferrous solution in hydrothermal conditio...\n",
       "                              ...                        \n",
       "6319    mineral#Quartz polymorphs#Werth-Metall Juniper...\n",
       "6320    mineral#Quartz polymorphs#Werth-Metall Juniper...\n",
       "6321    mineral#Quartz polymorphs#Werth-Metall Juniper...\n",
       "6322    mineral#Quartz polymorphs#Werth-Metall Juniper...\n",
       "6323    mineral#Quartz polymorphs#Werth-Metall Juniper...\n",
       "Name: sample_classification, Length: 6324, dtype: object"
      ]
     },
     "execution_count": 3,
     "metadata": {},
     "output_type": "execute_result"
    }
   ],
   "source": [
    "sshade['sample_classification']"
   ]
  },
  {
   "cell_type": "markdown",
   "id": "cb8209a9",
   "metadata": {},
   "source": [
    "We therefore cannot simply get all spectra of a given meteorite class or mineral, as we would have to parse\n",
    "the `sample_classification` column. Unfortunately, the content in this column does not appear to follow a certain\n",
    "pattern, making it difficult to programmatically identify all spectra of interest.\n",
    "\n",
    "Instead, in this tutorial, we will look at the spectra published in Beck+ 2021. We can select them\n",
    "from the `sshade` table by looking up the required `granule_gid` on the\n",
    "[SSHADE website of the experiment](https://www.sshade.eu/data/EXPERIMENT_LB_20200902_001)."
   ]
  },
  {
   "cell_type": "code",
   "execution_count": 4,
   "id": "8beae4f8",
   "metadata": {},
   "outputs": [],
   "source": [
    "beck21 = sshade[sshade['granule_gid'] == \"EXPERIMENT_LB_20200902_001\"]"
   ]
  },
  {
   "cell_type": "markdown",
   "id": "5619559c",
   "metadata": {},
   "source": [
    "We can now download the spectra using the `requests` library. The format is `VOTable`,\n",
    "which we can open with the `astropy` package. As in tutorial `3.1`, we use the\n",
    "`io.BytesIO` function as neat trick to avoid storing the spectra on file and to instead\n",
    "open them directly. In general, it makes sense to store them to avoid repeated\n",
    "queries to the server.\n",
    "\n",
    "We download the spectra by iterating over the `beck21` dataframe and using the `access_url` in each row."
   ]
  },
  {
   "cell_type": "code",
   "execution_count": 5,
   "id": "b5c743f8-e380-4aab-9d66-244808aa9546",
   "metadata": {},
   "outputs": [],
   "source": [
    "import io\n",
    "\n",
    "import astropy\n",
    "import requests\n",
    "\n",
    "spectra = []\n",
    "\n",
    "# Download spectra to local machine\n",
    "for _, row in beck21[:1].iterrows():\n",
    "    r = requests.get(row.access_url)\n",
    "\n",
    "    if False: # this code would write the spectra to file\n",
    "        with open(f\"{row.granule_uid}.votable\", \"w\") as file:\n",
    "            file.write(r.content.decode('UTF-8'))\n",
    "\n",
    "    else:\n",
    "      spec = astropy.io.votable.parse(io.BytesIO(r.content))\n",
    "      spectra.append(spec)"
   ]
  },
  {
   "cell_type": "markdown",
   "id": "96a28073",
   "metadata": {},
   "source": [
    "To convert the spectra from VOTable to a `pandas` dataframe (a more comfortable representation of the data),\n",
    "we use the following one-liner."
   ]
  },
  {
   "cell_type": "code",
   "execution_count": 6,
   "id": "13ec7080",
   "metadata": {},
   "outputs": [],
   "source": [
    "spectra = [spec.get_first_table().to_table().to_pandas() for spec in spectra]"
   ]
  },
  {
   "cell_type": "markdown",
   "id": "a53d052d",
   "metadata": {},
   "source": [
    "Let's look at one of these spectra."
   ]
  },
  {
   "cell_type": "code",
   "execution_count": 7,
   "id": "52644c71",
   "metadata": {},
   "outputs": [
    {
     "name": "stdout",
     "output_type": "stream",
     "text": [
      "Index(['wavelength', 'intensity_i0e10a0', 'error_i0e10a0', 'intensity_i0e20a0',\n",
      "       'error_i0e20a0', 'intensity_i0e30a0', 'error_i0e30a0'],\n",
      "      dtype='object')\n"
     ]
    },
    {
     "data": {
      "text/plain": [
       "<bound method NDFrame.head of     wavelength  intensity_i0e10a0  error_i0e10a0  intensity_i0e20a0  \\\n",
       "0        400.0           0.059648       0.000704           0.054490   \n",
       "1        500.0           0.071155       0.000088           0.064937   \n",
       "2        600.0           0.076120       0.000050           0.070014   \n",
       "3        700.0           0.077220       0.000016           0.071062   \n",
       "4        800.0           0.078557       0.000015           0.072541   \n",
       "5        900.0           0.078068       0.000085           0.072114   \n",
       "6       1000.0           0.071369       0.001294           0.065583   \n",
       "7       1100.0           0.070491       0.000765           0.066136   \n",
       "8       1200.0           0.071529       0.000557           0.065190   \n",
       "9       1300.0           0.071602       0.001101           0.066406   \n",
       "10      1400.0           0.072249       0.000561           0.065382   \n",
       "11      1500.0           0.071167       0.000363           0.065398   \n",
       "12      1600.0           0.071522       0.000258           0.065465   \n",
       "13      1700.0           0.071558       0.000429           0.065549   \n",
       "14      1800.0           0.070222       0.000273           0.064928   \n",
       "15      1900.0           0.071463       0.000367           0.065250   \n",
       "16      2000.0           0.071065       0.000442           0.066486   \n",
       "17      2100.0           0.071929       0.000553           0.066433   \n",
       "18      2200.0           0.071977       0.000420           0.066210   \n",
       "19      2300.0           0.072573       0.000512           0.065716   \n",
       "20      2400.0           0.071980       0.000862           0.067549   \n",
       "21      2500.0           0.073746       0.000483           0.066767   \n",
       "22      2600.0           0.075810       0.001590           0.068290   \n",
       "\n",
       "    error_i0e20a0  intensity_i0e30a0  error_i0e30a0  \n",
       "0        0.000953           0.050615       0.000529  \n",
       "1        0.000066           0.061911       0.000135  \n",
       "2        0.000071           0.067183       0.000038  \n",
       "3        0.000007           0.069063       0.000037  \n",
       "4        0.000012           0.070743       0.000011  \n",
       "5        0.000110           0.070360       0.000125  \n",
       "6        0.001635           0.064722       0.000983  \n",
       "7        0.001140           0.065225       0.000831  \n",
       "8        0.000731           0.064127       0.000745  \n",
       "9        0.000919           0.064420       0.000883  \n",
       "10       0.000908           0.064684       0.000751  \n",
       "11       0.000383           0.063558       0.000186  \n",
       "12       0.000438           0.063258       0.000362  \n",
       "13       0.000378           0.063628       0.000261  \n",
       "14       0.000640           0.063279       0.000398  \n",
       "15       0.000777           0.063250       0.000684  \n",
       "16       0.000445           0.063876       0.000768  \n",
       "17       0.000586           0.063316       0.000788  \n",
       "18       0.000631           0.063435       0.001229  \n",
       "19       0.000792           0.063322       0.000646  \n",
       "20       0.000687           0.063801       0.001052  \n",
       "21       0.000750           0.065466       0.001538  \n",
       "22       0.001462           0.065876       0.002137  >"
      ]
     },
     "execution_count": 7,
     "metadata": {},
     "output_type": "execute_result"
    }
   ],
   "source": [
    "print(spectra[0].columns)\n",
    "spectra[0].head"
   ]
  },
  {
   "cell_type": "markdown",
   "id": "4679e44b",
   "metadata": {},
   "source": [
    "The format is rather straight-forward: We have the `wavelength` and the `intensity` observed under\n",
    "different geometries: `i=0deg` and `e in {10, 20, 30}deg`. Each intensity has an associated `error`.\n",
    "\n",
    "To finish, let's plot one of these spectra. To add the sample metadata, we use the fact that the spectra\n",
    "are in the same order as the `beck21` dataframe."
   ]
  },
  {
   "cell_type": "code",
   "execution_count": 11,
   "id": "b602c74e",
   "metadata": {
    "lines_to_next_cell": 2
   },
   "outputs": [
    {
     "data": {
      "text/plain": [
       "[Text(0.5, 0, 'Wavelength / micron'), Text(0, 0.5, 'Intensity')]"
      ]
     },
     "execution_count": 11,
     "metadata": {},
     "output_type": "execute_result"
    },
    {
     "data": {
      "image/png": "[encoded data removed]",
      "text/plain": [
       "<Figure size 640x480 with 1 Axes>"
      ]
     },
     "metadata": {},
     "output_type": "display_data"
    }
   ],
   "source": [
    "import matplotlib.pyplot as plt\n",
    "\n",
    "fig, ax = plt.subplots()\n",
    "\n",
    "spec = spectra[0]  # randomly take the first spectrum\n",
    "\n",
    "ax.plot(spec[\"wavelength\"], spec[\"intensity_i0e10a0\"], ls=\"-\", label=\"i=0deg, e=10deg\", c=\"black\")\n",
    "ax.plot(spec[\"wavelength\"], spec[\"intensity_i0e20a0\"], ls=\"-\", label=\"i=0deg, e=20deg\", c=\"gray\")\n",
    "ax.plot(spec[\"wavelength\"], spec[\"intensity_i0e30a0\"], ls=\"-\", label=\"i=0deg, e=30deg\", c=\"lightgray\")\n",
    "ax.legend()\n",
    "ax.suptitle(beck21.reset_index().loc[0, 'sample_classification'])\n",
    "ax.set(xlabel='Wavelength / micron', ylabel='Intensity')"
   ]
  },
  {
   "cell_type": "markdown",
   "id": "4e75f1a9",
   "metadata": {},
   "source": [
    "At this point, our task is complete: We have programmatically accessed the\n",
    "SSHADE database and retrieved spectra of our choosing. The small sidestep to\n",
    "the SSHADE database to find the correct `granule_gid` of Beck+ 2021 is\n",
    "unfortunate but due to the nature of the EPN TAP protocol.\n",
    "\n",
    "How could we improve this? We could envision something like the `astroquery` syntax for SSHADE: A `SSHADE` class\n",
    "that you can use to query and download spectra. This would make access easier and be beneficial for many people\n",
    "if it made its way into the `astroquery` package at some point. We build this class in the advanced tutorial."
   ]
  }
 ],
 "metadata": {
  "kernelspec": {
   "display_name": "Python 3 (ipykernel)",
   "language": "python",
   "name": "python3"
  },
  "language_info": {
   "codemirror_mode": {
    "name": "ipython",
    "version": 3
   },
   "file_extension": ".py",
   "mimetype": "text/x-python",
   "name": "python",
   "nbconvert_exporter": "python",
   "pygments_lexer": "ipython3",
   "version": "3.11.5"
  }
 },
 "nbformat": 4,
 "nbformat_minor": 5
}
