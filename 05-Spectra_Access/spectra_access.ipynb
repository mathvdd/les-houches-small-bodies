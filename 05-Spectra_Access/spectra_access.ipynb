{
 "cells": [
  {
   "cell_type": "markdown",
   "id": "fc0ace94-1576-4a20-9ca0-29470aad41db",
   "metadata": {},
   "source": [
    "# Programmatic Access of Spectroscopic Data\n",
    "\n",
    "You will learn\n",
    "\n",
    "SSHADE\n",
    "TAP Queries\n",
    "Write a class to make programming more comfortable\n",
    "\n",
    "## TAP Queries\n",
    "\n",
    "The [Table Access Protocol](https://www.ivoa.net/documents/TAP/) (TAP) is a Virtual-Observatory service for accessing tables\n",
    "via, among other languages, an SQL-like query language called ADQL (Astronomical Data Query Language). Many astronomical dataservices are \n",
    "accessible via TAP, such as Gaia, ...\n",
    "\n",
    "TAP queries can be executed with standard graphical user interfaces such as TOPCAT and Aladin.\n",
    "\n",
    "## Access of SSHADE database via TAP\n",
    "\n",
    "The SSHADE database does not have an API to access spectra directly. However, the metadata of the SSHADE is accessible via TAP.\n",
    "We start by querying the service connecting to the service using the [pyvo](https://pyvo.readthedocs.io/en/latest/) package."
   ]
  },
  {
   "cell_type": "code",
   "execution_count": 12,
   "id": "49338393-0f6d-4a5c-9e1a-fdbb12731ed4",
   "metadata": {},
   "outputs": [],
   "source": [
    "import pyvo as vo\n",
    "\n",
    "service = vo.dal.TAPService(\"http://osug-vo.osug.fr:8080/tap\")"
   ]
  },
  {
   "cell_type": "markdown",
   "id": "49f9e4ad",
   "metadata": {},
   "source": [
    "The URL of the service you want to connect to is typically given on their website. In SSHADE's case, neither the URL nor\n",
    "the server response are documented on the webpage. To prepare this tutorial, we instead got the information by looking at how TOPCAT\n",
    "connects to SSHADE. Besides the URL, this also tells us which table we have to query, which we do below"
   ]
  },
  {
   "cell_type": "code",
   "execution_count": 13,
   "id": "7f032096-f0c8-4122-91cd-c17860abbbde",
   "metadata": {},
   "outputs": [
    {
     "name": "stderr",
     "output_type": "stream",
     "text": [
      "WARNING: UnitsWarning: Unit 'bar' not supported by the VOUnit standard. Did you mean 1e-28m**2, Ba (deprecated), aR, barn (deprecated) or cm**-1.g.s**-2? [astropy.units.format.vounit]\n"
     ]
    },
    {
     "name": "stdout",
     "output_type": "stream",
     "text": [
      "Retrieved metadata of 6324 spectra from SSHADE\n"
     ]
    }
   ],
   "source": [
    "sshade = service.search(\"SELECT * FROM sshade_spectra.epn_core\")  # get all entries of SSHADE metadata\n",
    "sshade = sshade.to_table().to_pandas()  # convert the resulting object to a pandas DataFrame\n",
    "print(f\"Retrieved metadata of {len(sshade)} spectra from SSHADE\")"
   ]
  },
  {
   "cell_type": "markdown",
   "id": "b9a3c7e2",
   "metadata": {
    "lines_to_next_cell": 0
   },
   "source": [
    "What did we just query? Let's inspect."
   ]
  },
  {
   "cell_type": "code",
   "execution_count": 14,
   "id": "021553a0",
   "metadata": {},
   "outputs": [
    {
     "name": "stdout",
     "output_type": "stream",
     "text": [
      "Index(['granule_uid', 'granule_gid', 'obs_id', 'dataproduct_type',\n",
      "       'target_name', 'target_class', 'time_min', 'time_max',\n",
      "       'time_sampling_step_min', 'time_sampling_step_max', 'time_exp_min',\n",
      "       'time_exp_max', 'spectral_range_min', 'spectral_range_max',\n",
      "       'spectral_sampling_step_min', 'spectral_sampling_step_max',\n",
      "       'spectral_resolution_min', 'spectral_resolution_max', 'c1min', 'c1max',\n",
      "       'c2min', 'c2max', 'c3min', 'c3max', 's_region', 'c1_resol_min',\n",
      "       'c1_resol_max', 'c2_resol_min', 'c2_resol_max', 'c3_resol_min',\n",
      "       'c3_resol_max', 'spatial_frame_type', 'incidence_min', 'incidence_max',\n",
      "       'emergence_min', 'emergence_max', 'phase_min', 'phase_max',\n",
      "       'instrument_host_name', 'instrument_name', 'measurement_type',\n",
      "       'processing_level', 'creation_date', 'modification_date',\n",
      "       'release_date', 'service_title', 'access_url', 'access_format',\n",
      "       'access_estsize', 'access_md5', 'time_scale', 'thumbnail_url',\n",
      "       'publisher', 'bib_reference', 'file_name', 'target_region',\n",
      "       'feature_name', 'alt_target_name', 'species',\n",
      "       'spatial_coordinate_description', 'producer_name', 'external_link',\n",
      "       'internal_reference', 'producer_institute', 'sample_classification',\n",
      "       'grain_size_min', 'grain_size_max', 'waveband', 'sample_desc',\n",
      "       'data_calibration_desc', 'geometry_type', 'target_distance_min',\n",
      "       'target_distance_max', 'azimuth_min', 'azimuth_max',\n",
      "       'measurement_atmosphere', 'pressure', 'temperature', 'species_name',\n",
      "       'species_inchikey', 'filter'],\n",
      "      dtype='object')\n"
     ]
    }
   ],
   "source": [
    "print(sshade.columns)"
   ]
  },
  {
   "cell_type": "markdown",
   "id": "37b317cf",
   "metadata": {},
   "source": [
    "Typical metadata columns and more cryptic ones.\n"
   ]
  },
  {
   "cell_type": "code",
   "execution_count": 15,
   "id": "a79cc082",
   "metadata": {},
   "outputs": [
    {
     "name": "stdout",
     "output_type": "stream",
     "text": [
      "0          SPECTRUM_DT_20170706_006\n",
      "1          SPECTRUM_GS_20161207_001\n",
      "2        SPECTRUM_DT_20161207_003_3\n",
      "3        SPECTRUM_DT_20161207_005_3\n",
      "4        SPECTRUM_DT_20161207_005_6\n",
      "                   ...             \n",
      "6319    SPECTRUM_CF_20200813_08_000\n",
      "6320    SPECTRUM_CF_20200813_02_000\n",
      "6321    SPECTRUM_CF_20200813_00_000\n",
      "6322    SPECTRUM_CF_20200813_09_000\n",
      "6323    SPECTRUM_CF_20200813_10_000\n",
      "Name: granule_uid, Length: 6324, dtype: object\n",
      "0         EXPERIMENT_DT_20170706_006\n",
      "1         EXPERIMENT_GS_20161207_001\n",
      "2       EXPERIMENT_DT_20161207_001.2\n",
      "3       EXPERIMENT_DT_20161207_001.2\n",
      "4       EXPERIMENT_DT_20161207_001.2\n",
      "                    ...             \n",
      "6319      EXPERIMENT_CF_20200813_000\n",
      "6320      EXPERIMENT_CF_20200813_000\n",
      "6321      EXPERIMENT_CF_20200813_000\n",
      "6322      EXPERIMENT_CF_20200813_000\n",
      "6323      EXPERIMENT_CF_20200813_000\n",
      "Name: granule_gid, Length: 6324, dtype: object\n",
      "0          SPECTRUM_DT_20170706_006\n",
      "1          SPECTRUM_GS_20161207_001\n",
      "2        SPECTRUM_DT_20161207_003_3\n",
      "3        SPECTRUM_DT_20161207_005_3\n",
      "4        SPECTRUM_DT_20161207_005_6\n",
      "                   ...             \n",
      "6319    SPECTRUM_CF_20200813_08_000\n",
      "6320    SPECTRUM_CF_20200813_02_000\n",
      "6321    SPECTRUM_CF_20200813_00_000\n",
      "6322    SPECTRUM_CF_20200813_09_000\n",
      "6323    SPECTRUM_CF_20200813_10_000\n",
      "Name: obs_id, Length: 6324, dtype: object\n",
      "0        \n",
      "1        \n",
      "2        \n",
      "3        \n",
      "4        \n",
      "       ..\n",
      "6319     \n",
      "6320     \n",
      "6321     \n",
      "6322     \n",
      "6323     \n",
      "Name: target_name, Length: 6324, dtype: object\n",
      "0       sample\n",
      "1       sample\n",
      "2       sample\n",
      "3       sample\n",
      "4       sample\n",
      "         ...  \n",
      "6319    sample\n",
      "6320    sample\n",
      "6321    sample\n",
      "6322    sample\n",
      "6323    sample\n",
      "Name: target_class, Length: 6324, dtype: object\n",
      "0       metallic Fe#metallic solid#metal#crystalline#F...\n",
      "1       metallic Ag#metallic solid#elemental solid#cry...\n",
      "2       Iron ferrous solution in hydrothermal conditio...\n",
      "3       Iron ferrous solution in hydrothermal conditio...\n",
      "4       Iron ferrous solution in hydrothermal conditio...\n",
      "                              ...                        \n",
      "6319    mineral#Quartz polymorphs#Werth-Metall Juniper...\n",
      "6320    mineral#Quartz polymorphs#Werth-Metall Juniper...\n",
      "6321    mineral#Quartz polymorphs#tektosilicate#crysta...\n",
      "6322    mineral#Quartz polymorphs#Werth-Metall Juniper...\n",
      "6323    mineral#Quartz polymorphs#Werth-Metall Juniper...\n",
      "Name: sample_classification, Length: 6324, dtype: object\n"
     ]
    }
   ],
   "source": [
    "print(sshade['granule_uid'])\n",
    "print(sshade['granule_gid'])\n",
    "print(sshade['obs_id'])\n",
    "print(sshade['target_name'])\n",
    "print(sshade['target_class'])\n",
    "print(sshade['sample_classification'])"
   ]
  },
  {
   "cell_type": "markdown",
   "id": "a9183755",
   "metadata": {},
   "source": [
    "<!-- Next, we encounter a weakness of TAP. Since it is a protocol, the tables it connects to need to follow a certain format, in particular concerning -->\n",
    "<!-- their column names. Since there are tables covering many different astronomical topics, making them all fit into one uniform schema necessarily leads -->\n",
    "<!-- to some concessions. In this case, the column names are not necessarily the best descriptors of the cell content, and we miss a column containing a clear yet -->\n",
    "<!-- concise description of the sample. -->\n",
    "\n",
    " <!-- the metadata is difficult to search for as important keys like target class are missing (concatenated in sample_classification) -->\n",
    "\n",
    "We select the spectra of different carbonaceous chondrites  published in Beck+ 2021. We get the required `granule_gid` from the\n",
    "[SSHADE website of the experiment](https://www.sshade.eu/data/EXPERIMENT_LB_20200902_001).\n"
   ]
  },
  {
   "cell_type": "code",
   "execution_count": 22,
   "id": "8beae4f8",
   "metadata": {},
   "outputs": [],
   "source": [
    "beck21 = sshade[sshade['granule_gid'] == \"EXPERIMENT_LB_20200902_001\"]"
   ]
  },
  {
   "cell_type": "markdown",
   "id": "5619559c",
   "metadata": {},
   "source": [
    "We download the spectra using the `requests` library. The format is `VOTable`, which we can open with the `astropy` package.\n",
    "Once again, we use the `io.BytesIO` function as neat trick to not store the spectra on file but to open them directly.\n",
    "In general, it makes sense to store them, to avoid repeated queries to the server.\n",
    "\n",
    "We download the spectra by iterating over the `beck21` dataframe and using the `access_url` in each row."
   ]
  },
  {
   "cell_type": "code",
   "execution_count": 33,
   "id": "b5c743f8-e380-4aab-9d66-244808aa9546",
   "metadata": {},
   "outputs": [
    {
     "name": "stdout",
     "output_type": "stream",
     "text": [
      "<VOTABLE>... 1 tables ...</VOTABLE>\n"
     ]
    },
    {
     "data": {
      "text/html": [
       "<div><i>Table length=23</i>\n",
       "<table id=\"table140454181041008\" class=\"table-striped table-bordered table-condensed\">\n",
       "<thead><tr><th>wavelength</th><th>intensity_i0e10a0</th><th>error_i0e10a0</th><th>intensity_i0e20a0</th><th>error_i0e20a0</th><th>intensity_i0e30a0</th><th>error_i0e30a0</th></tr></thead>\n",
       "<thead><tr><th>nm</th><th></th><th></th><th></th><th></th><th></th><th></th></tr></thead>\n",
       "<thead><tr><th>float32</th><th>float32</th><th>float32</th><th>float32</th><th>float32</th><th>float32</th><th>float32</th></tr></thead>\n",
       "<tr><td>400.0</td><td>0.062727</td><td>0.000653</td><td>0.052139</td><td>0.001002</td><td>0.048785</td><td>0.000647</td></tr>\n",
       "<tr><td>500.0</td><td>0.088927</td><td>0.000129</td><td>0.077723</td><td>0.000182</td><td>0.072136</td><td>0.000123</td></tr>\n",
       "<tr><td>600.0</td><td>0.108349</td><td>4.8e-05</td><td>0.096115</td><td>3.6e-05</td><td>0.090192</td><td>8.8e-05</td></tr>\n",
       "<tr><td>700.0</td><td>0.109839</td><td>2.7e-05</td><td>0.097519</td><td>2.8e-05</td><td>0.091595</td><td>2.5e-05</td></tr>\n",
       "<tr><td>800.0</td><td>0.109781</td><td>1e-05</td><td>0.097808</td><td>2.3e-05</td><td>0.092532</td><td>1.2e-05</td></tr>\n",
       "<tr><td>900.0</td><td>0.108915</td><td>0.000201</td><td>0.097556</td><td>0.000208</td><td>0.092087</td><td>0.00021</td></tr>\n",
       "<tr><td>1000.0</td><td>0.105504</td><td>0.002255</td><td>0.099331</td><td>0.001792</td><td>0.09124</td><td>0.001857</td></tr>\n",
       "<tr><td>1100.0</td><td>0.109417</td><td>0.00179</td><td>0.097806</td><td>0.002322</td><td>0.093345</td><td>0.000889</td></tr>\n",
       "<tr><td>1200.0</td><td>0.110698</td><td>0.002448</td><td>0.102247</td><td>0.002584</td><td>0.092687</td><td>0.001321</td></tr>\n",
       "<tr><td>1300.0</td><td>0.110743</td><td>0.001359</td><td>0.098866</td><td>0.001708</td><td>0.095306</td><td>0.001686</td></tr>\n",
       "<tr><td>1400.0</td><td>0.119307</td><td>0.006175</td><td>0.100802</td><td>0.001948</td><td>0.095325</td><td>0.002536</td></tr>\n",
       "<tr><td>1500.0</td><td>0.114238</td><td>0.00157</td><td>0.101945</td><td>0.000807</td><td>0.097803</td><td>0.000394</td></tr>\n",
       "<tr><td>1600.0</td><td>0.113798</td><td>0.001577</td><td>0.104033</td><td>0.002208</td><td>0.097558</td><td>0.000734</td></tr>\n",
       "<tr><td>1700.0</td><td>0.11414</td><td>0.000338</td><td>0.102094</td><td>0.000372</td><td>0.098439</td><td>0.000938</td></tr>\n",
       "<tr><td>1800.0</td><td>0.114667</td><td>0.001371</td><td>0.102265</td><td>0.000428</td><td>0.098368</td><td>0.001257</td></tr>\n",
       "<tr><td>1900.0</td><td>0.113554</td><td>0.00078</td><td>0.103013</td><td>0.000896</td><td>0.09946</td><td>0.000702</td></tr>\n",
       "<tr><td>2000.0</td><td>0.116072</td><td>0.002</td><td>0.105577</td><td>0.001456</td><td>0.100478</td><td>0.00091</td></tr>\n",
       "<tr><td>2100.0</td><td>0.116641</td><td>0.001279</td><td>0.105374</td><td>0.001309</td><td>0.102533</td><td>0.001277</td></tr>\n",
       "<tr><td>2200.0</td><td>0.11794</td><td>0.00143</td><td>0.108883</td><td>0.001533</td><td>0.101104</td><td>0.001754</td></tr>\n",
       "<tr><td>2300.0</td><td>0.118111</td><td>0.008198</td><td>0.10624</td><td>0.00051</td><td>0.101568</td><td>0.001574</td></tr>\n",
       "<tr><td>2400.0</td><td>0.108633</td><td>0.010798</td><td>0.107265</td><td>0.001679</td><td>0.092913</td><td>0.006008</td></tr>\n",
       "<tr><td>2500.0</td><td>0.125248</td><td>0.00154</td><td>0.111015</td><td>0.001764</td><td>0.109333</td><td>0.002586</td></tr>\n",
       "<tr><td>2600.0</td><td>0.133289</td><td>0.026575</td><td>0.114207</td><td>0.004984</td><td>0.105293</td><td>0.00382</td></tr>\n",
       "</table></div>"
      ],
      "text/plain": [
       "<Table length=23>\n",
       "wavelength intensity_i0e10a0 error_i0e10a0 ... intensity_i0e30a0 error_i0e30a0\n",
       "    nm                                     ...                                \n",
       " float32        float32         float32    ...      float32         float32   \n",
       "---------- ----------------- ------------- ... ----------------- -------------\n",
       "     400.0          0.062727      0.000653 ...          0.048785      0.000647\n",
       "     500.0          0.088927      0.000129 ...          0.072136      0.000123\n",
       "     600.0          0.108349       4.8e-05 ...          0.090192       8.8e-05\n",
       "     700.0          0.109839       2.7e-05 ...          0.091595       2.5e-05\n",
       "     800.0          0.109781         1e-05 ...          0.092532       1.2e-05\n",
       "     900.0          0.108915      0.000201 ...          0.092087       0.00021\n",
       "    1000.0          0.105504      0.002255 ...           0.09124      0.001857\n",
       "    1100.0          0.109417       0.00179 ...          0.093345      0.000889\n",
       "    1200.0          0.110698      0.002448 ...          0.092687      0.001321\n",
       "    1300.0          0.110743      0.001359 ...          0.095306      0.001686\n",
       "    1400.0          0.119307      0.006175 ...          0.095325      0.002536\n",
       "    1500.0          0.114238       0.00157 ...          0.097803      0.000394\n",
       "    1600.0          0.113798      0.001577 ...          0.097558      0.000734\n",
       "    1700.0           0.11414      0.000338 ...          0.098439      0.000938\n",
       "    1800.0          0.114667      0.001371 ...          0.098368      0.001257\n",
       "    1900.0          0.113554       0.00078 ...           0.09946      0.000702\n",
       "    2000.0          0.116072         0.002 ...          0.100478       0.00091\n",
       "    2100.0          0.116641      0.001279 ...          0.102533      0.001277\n",
       "    2200.0           0.11794       0.00143 ...          0.101104      0.001754\n",
       "    2300.0          0.118111      0.008198 ...          0.101568      0.001574\n",
       "    2400.0          0.108633      0.010798 ...          0.092913      0.006008\n",
       "    2500.0          0.125248       0.00154 ...          0.109333      0.002586\n",
       "    2600.0          0.133289      0.026575 ...          0.105293       0.00382"
      ]
     },
     "execution_count": 33,
     "metadata": {},
     "output_type": "execute_result"
    }
   ],
   "source": [
    "import io\n",
    "\n",
    "import astropy\n",
    "import requests\n",
    "\n",
    "# Download spectra to local machine\n",
    "for _, spec in beck21[:1].iterrows():\n",
    "    r = requests.get(spec.access_url)\n",
    "    # TODO: add line that stores the spectra\n",
    "    s = astropy.io.votable.parse(io.BytesIO(r.content))\n",
    "    print(s)\n",
    "s.get_first_table().to_table()"
   ]
  },
  {
   "cell_type": "markdown",
   "id": "4679e44b",
   "metadata": {},
   "source": [
    "And plot\n"
   ]
  },
  {
   "cell_type": "code",
   "execution_count": 36,
   "id": "b602c74e",
   "metadata": {},
   "outputs": [
    {
     "data": {
      "image/png": "[encoded data removed]",
      "text/plain": [
       "<Figure size 640x380 with 1 Axes>"
      ]
     },
     "metadata": {},
     "output_type": "display_data"
    }
   ],
   "source": [
    "import matplotlib.pyplot as plt\n",
    "\n",
    "fig, ax = plt.subplots()\n",
    "\n",
    "ax.plot(s.get_first_table().array['wavelength'], s.get_first_table().array['intensity_i0e10a0'])"
   ]
  },
  {
   "cell_type": "markdown",
   "id": "4e75f1a9",
   "metadata": {},
   "source": [
    "Again, we see that we can access, but the coding afterwards remains uncomfortable.\n",
    "\n",
    "<!-- ## Asteroids -->\n",
    "<!---->\n",
    "<!-- classy -->\n",
    "\n",
    "<!-- ## A Linkage Application -->\n",
    "\n",
    "## Making it more comfortable with OOP"
   ]
  },
  {
   "cell_type": "code",
   "execution_count": null,
   "id": "86dd76ed",
   "metadata": {},
   "outputs": [],
   "source": [
    "\n",
    "class Spectrum:\n",
    "\n",
    "  def __init__(self, data, i=0, e=10, a=0):\n",
    "\n",
    "\n",
    "    self.i = i\n",
    "    self.e = e \n",
    "    self.a = a\n",
    "\n",
    "    self.wave = data[\"wavelength\"]\n",
    "    self.refl = data[f\"intensity_i{i}e{e}a{a}\"]\n",
    "\n",
    "  # def plot(self):"
   ]
  },
  {
   "cell_type": "code",
   "execution_count": 44,
   "id": "748796c2",
   "metadata": {
    "lines_to_next_cell": 0
   },
   "outputs": [
    {
     "data": {
      "image/png": "[encoded data removed]",
      "text/plain": [
       "<Figure size 640x380 with 1 Axes>"
      ]
     },
     "metadata": {},
     "output_type": "display_data"
    }
   ],
   "source": [
    "spec_e10 = Spectrum(s.get_first_table().array, e=10)\n",
    "spec_e20 = Spectrum(s.get_first_table().array, e=20)\n",
    "spec_e30 = Spectrum(s.get_first_table().array, e=30)\n",
    "\n",
    "spectra = [spec_e10, spec_e20, spec_e30]\n",
    "\n",
    "\n",
    "fig, ax = plt.subplots()\n",
    "\n",
    "for spec in spectra:\n",
    "  ax.plot(spec.wave, spec.refl, label=f\"e={spec.e}\")\n",
    "\n",
    "ax.legend()\n",
    "plt.show()\n",
    "\n"
   ]
  },
  {
   "cell_type": "markdown",
   "id": "d9d509bc",
   "metadata": {},
   "source": []
  }
 ],
 "metadata": {
  "kernelspec": {
   "display_name": "Python 3 (ipykernel)",
   "language": "python",
   "name": "python3"
  },
  "language_info": {
   "codemirror_mode": {
    "name": "ipython",
    "version": 3
   },
   "file_extension": ".py",
   "mimetype": "text/x-python",
   "name": "python",
   "nbconvert_exporter": "python",
   "pygments_lexer": "ipython3",
   "version": "3.9.2"
  }
 },
 "nbformat": 4,
 "nbformat_minor": 5
}
