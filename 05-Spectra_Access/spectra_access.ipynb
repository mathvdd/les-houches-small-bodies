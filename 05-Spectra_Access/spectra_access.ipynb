{
 "cells": [
  {
   "cell_type": "markdown",
   "id": "fc0ace94-1576-4a20-9ca0-29470aad41db",
   "metadata": {},
   "source": [
    "# Programmatic Access of Spectroscopic Data"
   ]
  },
  {
   "cell_type": "markdown",
   "id": "c2fcbe54-4a68-464d-b3fe-02b23b8dab5b",
   "metadata": {},
   "source": [
    "## Asteroids"
   ]
  },
  {
   "cell_type": "markdown",
   "id": "325cbac2-cd98-4815-a3bd-9b1f6b0a5dd9",
   "metadata": {},
   "source": [
    "## Meteorites\n",
    "\n",
    "Spectra hosted on SSHADE can be accessed using the Table Access Protocol."
   ]
  },
  {
   "cell_type": "code",
   "execution_count": 26,
   "id": "49338393-0f6d-4a5c-9e1a-fdbb12731ed4",
   "metadata": {},
   "outputs": [],
   "source": [
    "import pyvo as vo\n",
    "import requests\n",
    "import astropy\n",
    "\n",
    "service = vo.dal.TAPService(\"http://osug-vo.osug.fr:8080/tap\")"
   ]
  },
  {
   "cell_type": "code",
   "execution_count": 27,
   "id": "7f032096-f0c8-4122-91cd-c17860abbbde",
   "metadata": {},
   "outputs": [
    {
     "name": "stderr",
     "output_type": "stream",
     "text": [
      "WARNING: UnitsWarning: Unit 'bar' not supported by the VOUnit standard. Did you mean 1e-28m**2, Ba (deprecated), aR, barn (deprecated) or g.cm**-1.s**-2? [astropy.units.format.vounit]\n"
     ]
    },
    {
     "name": "stdout",
     "output_type": "stream",
     "text": [
      "Retrieved metadata of 6324 spectra from SSHADE\n"
     ]
    }
   ],
   "source": [
    "sshade = service.search(\"SELECT * FROM sshade_spectra.epn_core\")\n",
    "sshade = sshade.to_table().to_pandas()  # convert the resulting object to a pandas DataFrame\n",
    "print(f\"Retrieved metadata of {len(sshade)} spectra from SSHADE\")"
   ]
  },
  {
   "cell_type": "code",
   "execution_count": 30,
   "id": "b5c743f8-e380-4aab-9d66-244808aa9546",
   "metadata": {},
   "outputs": [
    {
     "name": "stdout",
     "output_type": "stream",
     "text": [
      "<VOTABLE>... 1 tables ...</VOTABLE>\n",
      "<VOTABLE>... 1 tables ...</VOTABLE>\n",
      "<VOTABLE>... 1 tables ...</VOTABLE>\n",
      "<VOTABLE>... 1 tables ...</VOTABLE>\n",
      "<VOTABLE>... 1 tables ...</VOTABLE>\n",
      "<VOTABLE>... 1 tables ...</VOTABLE>\n",
      "<VOTABLE>... 1 tables ...</VOTABLE>\n",
      "<VOTABLE>... 1 tables ...</VOTABLE>\n",
      "<VOTABLE>... 1 tables ...</VOTABLE>\n",
      "<VOTABLE>... 1 tables ...</VOTABLE>\n",
      "<VOTABLE>... 1 tables ...</VOTABLE>\n",
      "<VOTABLE>... 1 tables ...</VOTABLE>\n",
      "<VOTABLE>... 1 tables ...</VOTABLE>\n",
      "<VOTABLE>... 1 tables ...</VOTABLE>\n",
      "<VOTABLE>... 1 tables ...</VOTABLE>\n",
      "<VOTABLE>... 1 tables ...</VOTABLE>\n",
      "<VOTABLE>... 1 tables ...</VOTABLE>\n",
      "<VOTABLE>... 1 tables ...</VOTABLE>\n",
      "<VOTABLE>... 1 tables ...</VOTABLE>\n",
      "<VOTABLE>... 1 tables ...</VOTABLE>\n",
      "<VOTABLE>... 1 tables ...</VOTABLE>\n",
      "<VOTABLE>... 1 tables ...</VOTABLE>\n",
      "<VOTABLE>... 1 tables ...</VOTABLE>\n",
      "<VOTABLE>... 1 tables ...</VOTABLE>\n",
      "<VOTABLE>... 1 tables ...</VOTABLE>\n",
      "<VOTABLE>... 1 tables ...</VOTABLE>\n",
      "<VOTABLE>... 1 tables ...</VOTABLE>\n",
      "<VOTABLE>... 1 tables ...</VOTABLE>\n",
      "<VOTABLE>... 1 tables ...</VOTABLE>\n",
      "<VOTABLE>... 1 tables ...</VOTABLE>\n",
      "<VOTABLE>... 1 tables ...</VOTABLE>\n",
      "<VOTABLE>... 1 tables ...</VOTABLE>\n",
      "<VOTABLE>... 1 tables ...</VOTABLE>\n",
      "<VOTABLE>... 1 tables ...</VOTABLE>\n",
      "<VOTABLE>... 1 tables ...</VOTABLE>\n",
      "<VOTABLE>... 1 tables ...</VOTABLE>\n",
      "<VOTABLE>... 1 tables ...</VOTABLE>\n",
      "<VOTABLE>... 1 tables ...</VOTABLE>\n",
      "<VOTABLE>... 1 tables ...</VOTABLE>\n",
      "<VOTABLE>... 1 tables ...</VOTABLE>\n",
      "<VOTABLE>... 1 tables ...</VOTABLE>\n",
      "<VOTABLE>... 1 tables ...</VOTABLE>\n",
      "<VOTABLE>... 1 tables ...</VOTABLE>\n",
      "<VOTABLE>... 1 tables ...</VOTABLE>\n",
      "<VOTABLE>... 1 tables ...</VOTABLE>\n",
      "<VOTABLE>... 1 tables ...</VOTABLE>\n",
      "<VOTABLE>... 1 tables ...</VOTABLE>\n",
      "<VOTABLE>... 1 tables ...</VOTABLE>\n",
      "<VOTABLE>... 1 tables ...</VOTABLE>\n",
      "<VOTABLE>... 1 tables ...</VOTABLE>\n",
      "<VOTABLE>... 1 tables ...</VOTABLE>\n",
      "<VOTABLE>... 1 tables ...</VOTABLE>\n",
      "<VOTABLE>... 1 tables ...</VOTABLE>\n",
      "<VOTABLE>... 1 tables ...</VOTABLE>\n",
      "<VOTABLE>... 1 tables ...</VOTABLE>\n",
      "<VOTABLE>... 1 tables ...</VOTABLE>\n",
      "<VOTABLE>... 1 tables ...</VOTABLE>\n",
      "<VOTABLE>... 1 tables ...</VOTABLE>\n",
      "<VOTABLE>... 1 tables ...</VOTABLE>\n",
      "<VOTABLE>... 1 tables ...</VOTABLE>\n"
     ]
    }
   ],
   "source": [
    "# the metadata is difficult to search for as important keys like target class are missing (concatenated in sample_classification)\n",
    "# Use the experiment key from SSHADE to download all spectra from Beck+ 2021\n",
    "beck21 = sshade[sshade['granule_gid'] == \"EXPERIMENT_LB_20200902_001\"]\n",
    "\n",
    "import io\n",
    "# Download spectra to local machine\n",
    "for _, spec in beck21.iterrows():\n",
    "    r = requests.get(spec.access_url)\n",
    "    s = astropy.io.votable.parse(io.BytesIO(r.content))\n",
    "    print(s)"
   ]
  },
  {
   "cell_type": "code",
   "execution_count": 18,
   "id": "7c7f772a-6f95-4f5e-bedf-865b385a5ad3",
   "metadata": {},
   "outputs": [],
   "source": [
    "sshade.to_csv('/tmp/sshade.csv')"
   ]
  },
  {
   "cell_type": "markdown",
   "id": "d7f5d04d-4a5d-4f63-a879-63c2837b42da",
   "metadata": {},
   "source": [
    "## A Linkage Application"
   ]
  }
 ],
 "metadata": {
  "kernelspec": {
   "display_name": "Python 3 (ipykernel)",
   "language": "python",
   "name": "python3"
  },
  "language_info": {
   "codemirror_mode": {
    "name": "ipython",
    "version": 3
   },
   "file_extension": ".py",
   "mimetype": "text/x-python",
   "name": "python",
   "nbconvert_exporter": "python",
   "pygments_lexer": "ipython3",
   "version": "3.11.7"
  }
 },
 "nbformat": 4,
 "nbformat_minor": 5
}
