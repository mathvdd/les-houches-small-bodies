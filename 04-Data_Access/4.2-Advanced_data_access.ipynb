{
 "cells": [
  {
   "cell_type": "markdown",
   "id": "d98512d3",
   "metadata": {},
   "source": [
    "The good stuff\n",
    "\n",
    "rocks: complete catalogue (sdss moc1 example)"
   ]
  }
 ],
 "metadata": {
  "kernelspec": {
   "display_name": "Python 3 (ipykernel)",
   "language": "python",
   "name": "python3"
  },
  "language_info": {
   "codemirror_mode": {
    "name": "ipython",
    "version": 3
   },
   "file_extension": ".py",
   "mimetype": "text/x-python",
   "name": "python",
   "nbconvert_exporter": "python",
   "pygments_lexer": "ipython3",
   "version": "3.11.6"
  }
 },
 "nbformat": 4,
 "nbformat_minor": 5
}
