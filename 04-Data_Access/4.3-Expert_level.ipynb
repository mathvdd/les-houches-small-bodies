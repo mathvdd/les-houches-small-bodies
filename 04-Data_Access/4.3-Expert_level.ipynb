{
 "cells": [
  {
   "cell_type": "markdown",
   "id": "8754b8d8",
   "metadata": {},
   "source": [
    "# Build your own meteorite classifier\n",
    "\n",
    "In this expert part of the data-access tutorial, we see an example of how we\n",
    "can use our understanding of APIs to create useful tools for our daily\n",
    "research-life. The best tools are those that address a direct need in your\n",
    "analysis. Here, the example taken from real life is:\n",
    "\n",
    "*\"I need a function that accepts the name of one or many meteorites and returns their classification.\"*\n",
    "\n",
    "This tutorial explains in-depth how we can approach and solve this general idea. To find the final\n",
    "solution, we require basic knowledge of how data is sent to and from websites, which we explain below.\n",
    "You will see that the code itself to get this tool working is rather minimal.\n",
    "\n",
    "## Step 1: Identify the data source\n",
    "\n",
    "To get started, we need a database containing the information we are looking\n",
    "for: meteorite name-class relationships. The first thought: We could create a\n",
    "large text file with all known meteorite names and their classifications.\n",
    "However, we don't want to build and maintain this database ourselves. It's a\n",
    "lot of work and other services already do this for us.\n",
    "\n",
    "A good place for meteorite data is the [Meteoritical Bulletin](https://www.lpi.usra.edu/meteor/). The\n",
    "website does what we want: you enter a meteorite name and it returns basic\n",
    "information, including the classification. Great, the data that we are looking\n",
    "for is available somewhere on this website!\n",
    "\n",
    "However, the main page does not allow us to submit multiple objects at the same\n",
    "time. We could still make it work, however, the [Meteorite Name Checking\n",
    "Utility](https://www.lpi.usra.edu/meteor/metbullcheck.php) on the same website\n",
    "does allow us to send multiple objects, so we continue with this service.\n",
    "\n",
    "<div>\n",
    "  <center>\n",
    "    <img src=\"../06-Conclusion/gfx/demo_metsoc.png\" width=\"800\"/>\n",
    "  </center>\n",
    "</div>"
   ]
  },
  {
   "cell_type": "markdown",
   "id": "54027636",
   "metadata": {},
   "source": [
    "## Step 2: Identify an access protocol\n",
    "\n",
    "If we have more than a handful of meteorites that we want to look up, it\n",
    "quickly becomes tiring to type in their names on the website and submit the\n",
    "\"Search\" request. Instead, we want to do this programmatically. We need some\n",
    "way to communicate with the server via a script.\n",
    "\n",
    "We learned about different APIs to access data on remote servers this week:\n",
    "HTML POST requests using the `requests` module, using secondary data clients\n",
    "like `astroquery`, or the TAP services. Most databases specify at least one of\n",
    "these methods as their preferred access method for the user. However, there is\n",
    "no official API for the Meteoritical Bulletin. We thus have to be a bit\n",
    "creative to find a way to programmatically query our data.\n",
    "\n",
    "When you fill out a text form such as on this main page of the Meteoritical\n",
    "Bulletin and hit `Search`, you are in most cases executing what is called an\n",
    "HTML POST request. We saw this in notebook `3.1-How_to_query_an_API`, where we\n",
    "used the `requests.post` function to send data to a server. The same is\n",
    "happening when you click the `Search!` button: We are sending data to a URL. If\n",
    "we can find out what this data looks like and where it is sent to, we might be\n",
    "able to replicate this behaviour using the `requests` module.\n",
    "\n",
    "Fortunately, your browser can tell you exactly what data it is sending to which\n",
    "URL. This information is typically hidden in a \"Developer\" sub-menu. We use\n",
    "Mozilla Firefox here, but the same is possible in most browsers. With Firefox,\n",
    "you can right-click on the page and select \"Inspect\". You can see what this\n",
    "looks like in the figure below.\n",
    "\n",
    "<div>\n",
    "  <center>\n",
    "    <img src=\"../06-Conclusion/gfx/demo_inspect.png\" width=\"1000\"/>\n",
    "  </center>\n",
    "</div>\n",
    "\n",
    "The window at the bottom shows the website elements. The \"Network\" tab shows\n",
    "data that we sent to the server and that we get from the server. When you open\n",
    "the inspection window, this tab is empty. If you then execute a search on the\n",
    "website (e.g. type in \"Vigarano\" and hit `Search`), you will see a \"POST\n",
    "request\" appear. This entry contains the data that we sent to the server, and\n",
    "the target URL. It also contains the server's response, which in this case is\n",
    "an HTML page (the page that it shows after you executed a search).\n",
    "\n",
    "The following information is relevant to us:\n",
    "\n",
    "- Domain and file that the request was sent to: `https://www.lpi.usra.edu/` and\n",
    "`meteor/metbullcheck.php`. This means that our target URL is\n",
    "`https://www.lpi.usra.edu/meteor/metbullcheck.php`, the page that we are on.\n",
    "\n",
    "- Request: The request contains the actual data that we sent. We see that there are two key-value pairs: `sea: Vigarano` and `Search: Search`.\n",
    "We deduce that the `sea` is the search term that we enter into the text form.\n",
    "\n",
    "<div>\n",
    "  <center>\n",
    "    <img src=\"../06-Conclusion/gfx/zoom_inspect.png\" width=\"1000\"/>\n",
    "  </center>\n",
    "</div>\n",
    "\n",
    "We have all that we need to access the server programmatically now.\n",
    "\n",
    "## 3. Scripting the access\n",
    "\n",
    "We use the `requests` module in `python` and write a standard POST request with the information we just gathered."
   ]
  },
  {
   "cell_type": "code",
   "execution_count": 1,
   "id": "d973a931",
   "metadata": {},
   "outputs": [
    {
     "name": "stdout",
     "output_type": "stream",
     "text": [
      "The query failed.\n"
     ]
    }
   ],
   "source": [
    "import requests\n",
    "\n",
    "URL = \"https://www.lpi.usra.edu/meteor/metbullcheck.php\"\n",
    "\n",
    "data = {\n",
    "    \"Search\": \"Search\",\n",
    "    \"sea\": \"Vigarano\",\n",
    "}\n",
    "\n",
    "r = requests.post(URL, data=data)\n",
    "\n",
    "if r.ok:\n",
    "  print(\"The query was successful.\")\n",
    "else:\n",
    "  print(\"The query failed.\")"
   ]
  },
  {
   "cell_type": "markdown",
   "id": "64e40729",
   "metadata": {},
   "source": [
    "The query failed. Let's have a look at the server's response."
   ]
  },
  {
   "cell_type": "code",
   "execution_count": 2,
   "id": "1aecab77",
   "metadata": {},
   "outputs": [
    {
     "data": {
      "text/plain": [
       "b'<!DOCTYPE html>\\n<!--[if lt IE 7]> <html class=\"no-js ie6 oldie\" lang=\"en-US\"> <![endif]-->\\n<!--[if IE 7]>    <html class=\"no-js ie7 oldie\" lang=\"en-US\"> <![endif]-->\\n<!--[if IE 8]>    <html class=\"no-js ie8 oldie\" lang=\"en-US\"> <![endif]-->\\n<!--[if gt IE 8]><!--> <html class=\"no-js\" lang=\"en-US\"> <!--<![endif]-->\\n<head>\\n<title>Attention Required! | Cloudflare</title>\\n<meta charset=\"UTF-8\" />\\n<meta http-equiv=\"Content-Type\" content=\"text/html; charset=UTF-8\" />\\n<meta http-equiv=\"X-UA-Compatible\" content=\"IE=Edge\" />\\n<meta name=\"robots\" content=\"noindex, nofollow\" />\\n<meta name=\"viewport\" content=\"width=device-width,initial-scale=1\" />\\n<link rel=\"stylesheet\" id=\"cf_styles-css\" href=\"/cdn-cgi/styles/cf.errors.css\" />\\n<!--[if lt IE 9]><link rel=\"stylesheet\" id=\\'cf_styles-ie-css\\' href=\"/cdn-cgi/styles/cf.errors.ie.css\" /><![endif]-->\\n<style>body{margin:0;padding:0}</style>\\n\\n\\n<!--[if gte IE 10]><!-->\\n<script>\\n  if (!navigator.cookieEnabled) {\\n    window.addEventListener(\\'DOMContentLoaded\\', function () {\\n      var cookieEl = document.getElementById(\\'cookie-alert\\');\\n      cookieEl.style.display = \\'block\\';\\n    })\\n  }\\n</script>\\n<!--<![endif]-->\\n\\n\\n</head>\\n<body>\\n  <div id=\"cf-wrapper\">\\n    <div class=\"cf-alert cf-alert-error cf-cookie-error\" id=\"cookie-alert\" data-translate=\"enable_cookies\">Please enable cookies.</div>\\n    <div id=\"cf-error-details\" class=\"cf-error-details-wrapper\">\\n      <div class=\"cf-wrapper cf-header cf-error-overview\">\\n        <h1 data-translate=\"block_headline\">Sorry, you have been blocked</h1>\\n        <h2 class=\"cf-subheadline\"><span data-translate=\"unable_to_access\">You are unable to access</span> usra.edu</h2>\\n      </div><!-- /.header -->\\n\\n      <div class=\"cf-section cf-highlight\">\\n        <div class=\"cf-wrapper\">\\n          <div class=\"cf-screenshot-container cf-screenshot-full\">\\n            \\n              <span class=\"cf-no-screenshot error\"></span>\\n            \\n          </div>\\n        </div>\\n      </div><!-- /.captcha-container -->\\n\\n      <div class=\"cf-section cf-wrapper\">\\n        <div class=\"cf-columns two\">\\n          <div class=\"cf-column\">\\n            <h2 data-translate=\"blocked_why_headline\">Why have I been blocked?</h2>\\n\\n            <p data-translate=\"blocked_why_detail\">This website is using a security service to protect itself from online attacks. The action you just performed triggered the security solution. There are several actions that could trigger this block including submitting a certain word or phrase, a SQL command or malformed data.</p>\\n          </div>\\n\\n          <div class=\"cf-column\">\\n            <h2 data-translate=\"blocked_resolve_headline\">What can I do to resolve this?</h2>\\n\\n            <p data-translate=\"blocked_resolve_detail\">You can email the site owner to let them know you were blocked. Please include what you were doing when this page came up and the Cloudflare Ray ID found at the bottom of this page.</p>\\n          </div>\\n        </div>\\n      </div><!-- /.section -->\\n\\n      <div class=\"cf-error-footer cf-wrapper w-240 lg:w-full py-10 sm:py-4 sm:px-8 mx-auto text-center sm:text-left border-solid border-0 border-t border-gray-300\">\\n  <p class=\"text-13\">\\n    <span class=\"cf-footer-item sm:block sm:mb-1\">Cloudflare Ray ID: <strong class=\"font-semibold\">8503e3bce9759004</strong></span>\\n    <span class=\"cf-footer-separator sm:hidden\">&bull;</span>\\n    <span id=\"cf-footer-item-ip\" class=\"cf-footer-item hidden sm:block sm:mb-1\">\\n      Your IP:\\n      <button type=\"button\" id=\"cf-footer-ip-reveal\" class=\"cf-footer-ip-reveal-btn\">Click to reveal</button>\\n      <span class=\"hidden\" id=\"cf-footer-ip\">130.190.113.7</span>\\n      <span class=\"cf-footer-separator sm:hidden\">&bull;</span>\\n    </span>\\n    <span class=\"cf-footer-item sm:block sm:mb-1\"><span>Performance &amp; security by</span> <a rel=\"noopener noreferrer\" href=\"https://www.cloudflare.com/5xx-error-landing\" id=\"brand_link\" target=\"_blank\">Cloudflare</a></span>\\n    \\n  </p>\\n  <script>(function(){function d(){var b=a.getElementById(\"cf-footer-item-ip\"),c=a.getElementById(\"cf-footer-ip-reveal\");b&&\"classList\"in b&&(b.classList.remove(\"hidden\"),c.addEventListener(\"click\",function(){c.classList.add(\"hidden\");a.getElementById(\"cf-footer-ip\").classList.remove(\"hidden\")}))}var a=document;document.addEventListener&&a.addEventListener(\"DOMContentLoaded\",d)})();</script>\\n</div><!-- /.error-footer -->\\n\\n\\n    </div><!-- /#cf-error-details -->\\n  </div><!-- /#cf-wrapper -->\\n\\n  <script>\\n  window._cf_translation = {};\\n  \\n  \\n</script>\\n\\n</body>\\n</html>\\n'"
      ]
     },
     "execution_count": 2,
     "metadata": {},
     "output_type": "execute_result"
    }
   ],
   "source": [
    "r.content"
   ]
  },
  {
   "cell_type": "markdown",
   "id": "de9b1916",
   "metadata": {},
   "source": [
    "The relevant sentence in the response is this one: \"*This website is using a security service to protect itself from online attacks.*\"\n",
    "The server did receive our request but did not like the look of it. Many websites have security measures like this one to prevent bad actors\n",
    "from repeatedly accessing their services.\n",
    "\n",
    "But we come in good faith. The way to instill more trust in the server is by pretending that we are in fact accessing the server from a browser\n",
    "instead of from a script. The way to do this is to send some metadata describing our fake browser with our request."
   ]
  },
  {
   "cell_type": "code",
   "execution_count": 3,
   "id": "e75fbe07",
   "metadata": {},
   "outputs": [
    {
     "name": "stdout",
     "output_type": "stream",
     "text": [
      "The query was successful.\n"
     ]
    }
   ],
   "source": [
    "headers = {\n",
    "    \"User-Agent\": \"Mozilla/5.0 (X11; Linux x86_64; rv:109.0) Gecko/20100101 Firefox/115.0\",\n",
    "}\n",
    "\n",
    "r = requests.post(URL, data=data, headers=headers)\n",
    "\n",
    "if r.ok:\n",
    "  print(\"The query was successful.\")\n",
    "else:\n",
    "  print(\"The query failed.\")"
   ]
  },
  {
   "cell_type": "markdown",
   "id": "c8a6aa8f",
   "metadata": {},
   "source": [
    "Success! You can have a look at `r.content` again, however, we already know what it looks like: It is the same HTML page that is rendered as\n",
    "when we send a regular request through the website of the Meteoritical Bulletin. The main information that we want is a table containing\n",
    "the name of the meteorite we were looking for and its class.\n",
    "\n",
    "# 4. Extracting the information\n",
    "\n",
    "HTML is great for websites but terrible for anything else. Fortunately, the process of \"website scraping\" that we are doing now is quite common,\n",
    "and so many tools exist to help us get the data we want. One of those tools is `pandas`, which can parse HTML and extract tabular data.\n",
    "\n",
    "> NB: The `pd.read_html` function might fail with an error if you do not have the\n",
    "> `lxml` python library on your system. A `python -m pip install lxml` should fix this."
   ]
  },
  {
   "cell_type": "code",
   "execution_count": 4,
   "id": "b334e6e5",
   "metadata": {},
   "outputs": [
    {
     "data": {
      "text/plain": [
       "[                                     0                                    1\n",
       " 0                                  NaN                                  NaN\n",
       " 1  MetSoc Home  Publications  Contacts  MetSoc Home  Publications  Contacts,\n",
       "                                      0\n",
       " 0  MetSoc Home  Publications  Contacts,\n",
       "           0                                                  1  \\\n",
       " 0  Vigarano  Directions: Enter a name or a list of names in...   \n",
       " \n",
       "                                                    2  \n",
       " 0  Directions: Enter a name or a list of names in...  ,\n",
       "   Search name   Status† Full name  Abbreviation Comments  Bull   Mass\n",
       " 0    Vigarano  Official  Vigarano           NaN      CV3   NaN  15000,\n",
       "   Type of name                           Explanation Use in publications\n",
       " 0     Official  A formally recognized meteorite name            Approved]"
      ]
     },
     "execution_count": 4,
     "metadata": {},
     "output_type": "execute_result"
    }
   ],
   "source": [
    "import pandas as pd\n",
    "tables = pd.read_html(r.content)\n",
    "\n",
    "tables"
   ]
  },
  {
   "cell_type": "markdown",
   "id": "55515caa",
   "metadata": {},
   "source": [
    "`pandas` found five tables in on the HTML page, and the fourth one contains the information that we want!"
   ]
  },
  {
   "cell_type": "code",
   "execution_count": 5,
   "id": "1b5d1fcf",
   "metadata": {},
   "outputs": [
    {
     "data": {
      "text/html": [
       "<div>\n",
       "<style scoped>\n",
       "    .dataframe tbody tr th:only-of-type {\n",
       "        vertical-align: middle;\n",
       "    }\n",
       "\n",
       "    .dataframe tbody tr th {\n",
       "        vertical-align: top;\n",
       "    }\n",
       "\n",
       "    .dataframe thead th {\n",
       "        text-align: right;\n",
       "    }\n",
       "</style>\n",
       "<table border=\"1\" class=\"dataframe\">\n",
       "  <thead>\n",
       "    <tr style=\"text-align: right;\">\n",
       "      <th></th>\n",
       "      <th>Search name</th>\n",
       "      <th>Status†</th>\n",
       "      <th>Full name</th>\n",
       "      <th>Abbreviation</th>\n",
       "      <th>Comments</th>\n",
       "      <th>Bull</th>\n",
       "      <th>Mass</th>\n",
       "    </tr>\n",
       "  </thead>\n",
       "  <tbody>\n",
       "    <tr>\n",
       "      <th>0</th>\n",
       "      <td>Vigarano</td>\n",
       "      <td>Official</td>\n",
       "      <td>Vigarano</td>\n",
       "      <td>NaN</td>\n",
       "      <td>CV3</td>\n",
       "      <td>NaN</td>\n",
       "      <td>15000</td>\n",
       "    </tr>\n",
       "  </tbody>\n",
       "</table>\n",
       "</div>"
      ],
      "text/plain": [
       "  Search name   Status† Full name  Abbreviation Comments  Bull   Mass\n",
       "0    Vigarano  Official  Vigarano           NaN      CV3   NaN  15000"
      ]
     },
     "execution_count": 5,
     "metadata": {},
     "output_type": "execute_result"
    }
   ],
   "source": [
    "result = tables[3]\n",
    "result"
   ]
  },
  {
   "cell_type": "markdown",
   "id": "7f949150",
   "metadata": {},
   "source": [
    "There it is. We requested a meteorite by name and got the class information returned. Let's put this into a function.\n",
    "\n",
    "# 5. Putting together the pieces"
   ]
  },
  {
   "cell_type": "code",
   "execution_count": 7,
   "id": "2a1045d1",
   "metadata": {},
   "outputs": [],
   "source": [
    "import pandas as pd\n",
    "import requests\n",
    "\n",
    "def get_class_by_name(name):\n",
    "  \"\"\"Query a meteorite's classification from the Meteoritical Bulletin.\n",
    "\n",
    "  Parameters\n",
    "  ----------\n",
    "  name : str\n",
    "      The name of a meteorite\n",
    "\n",
    "  Returns\n",
    "  -------\n",
    "  str\n",
    "      The meteorite's class.\n",
    "  \"\"\"\n",
    "\n",
    "  URL = \"https://www.lpi.usra.edu/meteor/metbullcheck.php\"\n",
    "\n",
    "  data = {\n",
    "      \"Search\": \"Search\",\n",
    "      \"sea\": name,\n",
    "  }\n",
    "\n",
    "  headers = {\n",
    "      \"User-Agent\": \"Mozilla/5.0 (X11; Linux x86_64; rv:109.0) Gecko/20100101 Firefox/115.0\",\n",
    "  }\n",
    "\n",
    "  r = requests.post(URL, data=data, headers=headers)\n",
    "  tables = pd.read_html(r.content)\n",
    "  result = tables[3]\n",
    "  return result.Comments.values[0]"
   ]
  },
  {
   "cell_type": "markdown",
   "id": "69f1bb82",
   "metadata": {},
   "source": [
    "Let's try our new function with three meteorites:"
   ]
  },
  {
   "cell_type": "code",
   "execution_count": 8,
   "id": "8701d6af",
   "metadata": {},
   "outputs": [
    {
     "name": "stdout",
     "output_type": "stream",
     "text": [
      "Vigarano is a CV3 meteorite.\n",
      "Orgueil is a CI1 meteorite.\n",
      "Hoba is a Iron, IVB meteorite.\n"
     ]
    }
   ],
   "source": [
    "for meteorite in [\"Vigarano\", \"Orgueil\", \"Hoba\"]:\n",
    "    class_ = get_class_by_name(meteorite)\n",
    "    print(f\"{meteorite} is a {class_} meteorite.\")"
   ]
  },
  {
   "cell_type": "markdown",
   "id": "81247c1a",
   "metadata": {},
   "source": [
    "It works! And it's really not that much code, is it?\n",
    "\n",
    "# TODO: Smoothen the rough edges\n",
    "\n",
    "We have a working prototype that's ready to be used in our analysis. Additionally, other people might be interested in this nice little tool.\n",
    "Here is a list of items that we could work on next to improve our meteorite classifier. We leave them open here, as an exercise to the reader. This is the expert-level tutorial, after all.\n",
    "\n",
    "- What happens if an unknown meteorite name is passed?\n",
    "- What happens if the server is unavailable?\n",
    "- Instead of sending many requests for many objects, we should should send a\n",
    "single request with many objects. This is possible on the website and it would\n",
    "severely decrease the run time of our script.\n"
   ]
  }
 ],
 "metadata": {
  "kernelspec": {
   "display_name": "Python 3 (ipykernel)",
   "language": "python",
   "name": "python3"
  },
  "language_info": {
   "codemirror_mode": {
    "name": "ipython",
    "version": 3
   },
   "file_extension": ".py",
   "mimetype": "text/x-python",
   "name": "python",
   "nbconvert_exporter": "python",
   "pygments_lexer": "ipython3",
   "version": "3.11.5"
  }
 },
 "nbformat": 4,
 "nbformat_minor": 5
}
