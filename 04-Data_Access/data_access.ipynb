{
 "cells": [
  {
   "cell_type": "markdown",
   "id": "5efcd19d",
   "metadata": {},
   "source": [
    "# Programmatic Data Access\n",
    "\n",
    "In this tutorial, we are going to identify asteroids in the family of Themis with large albedos.\n",
    "We will then scan archives for existing observations.\n",
    "\n",
    "Compare albedo distribution of D-types in different parts of Main Belt\n",
    "Check for archive observations\n",
    "\n",
    "[Think: do you want to process many (>100) asteroids or just a few? -> Choose different approach]\n",
    "\n",
    "On Tuesday, we learned\n",
    "how to access data via APIs that webservices expose. Example APIs that offer access to asteroid data are\n",
    "\n",
    "- SBDB\n",
    "- asteroid.lowell.edu (no documentation)\n",
    "- SsODNet\n",
    "\n",
    "For all of these, you could access data using the `requests` package we saw on Tuesday, with more or less effort. \n",
    "In this tutorial, we continue exploring different methods of programmatic data\n",
    "access, focusing in particular on data of small bodies. We look at two packages that offer direct access to one or more databases,\n",
    "i.e. that perform the relevant queries for you. Both of them address slightly different use cases.\n",
    "\n",
    "## `astroquery` - the Swiss Army Knife\n",
    "\n",
    "[astroquery](https://astroquery.readthedocs.io/en/latest/) is an\n",
    "[astropy](https://www.astropy.org/)-affiliated package providing access to\n",
    "astronomical databases and catalogues. The strengths of this package is the\n",
    "large [number of services](https://astroquery.readthedocs.io/en/latest/#available-services) that\n",
    "can be queried with a uniform syntax, such as:\n",
    "\n",
    "- [ESASky](http://sky.esa.int): Search the planetary science archive for observations from different missions (JWST, HST, Herschel, XMM-Newton, ...).\n",
    "  You can search for observations of a specific coordinate, using the name of a star or galaxy, and even for solar system objects that happen to cross a field-of-view\n",
    "  at the epoch of observation. A similar service is offered by the [IRSA Moving Object Search Tool](https://irsa.ipac.caltech.edu/applications/MOST)."
   ]
  },
  {
   "cell_type": "code",
   "execution_count": 1,
   "id": "ad6d5f38",
   "metadata": {},
   "outputs": [
    {
     "name": "stderr",
     "output_type": "stream",
     "text": [
      "WARNING: UnitsWarning: Unit 'time' not supported by the VOUnit standard.  [astropy.units.format.vounit]\n"
     ]
    },
    {
     "data": {
      "text/plain": [
       "TableList with 1 tables:\n",
       "\t'0:HST' with 45 column(s) and 80 row(s) "
      ]
     },
     "execution_count": 1,
     "metadata": {},
     "output_type": "execute_result"
    }
   ],
   "source": [
    "from astroquery.esasky import ESASky\n",
    "result = ESASky.query_sso(sso_name=\"Pallas\", missions=[\"HST\"])\n",
    "\n",
    "result"
   ]
  },
  {
   "cell_type": "markdown",
   "id": "2393313d",
   "metadata": {},
   "source": [
    "- [VO Simple Cone Search](https://astroquery.readthedocs.io/en/latest/vo_conesearch/vo_conesearch.html): Search for stars and galaxies within a given radius around a given position. *(We saw this on Tuesday)*"
   ]
  },
  {
   "cell_type": "code",
   "execution_count": 2,
   "id": "6873ae40",
   "metadata": {},
   "outputs": [
    {
     "data": {
      "text/html": [
       "<div><i>Table length=122</i>\n",
       "<table id=\"table5086686352\" class=\"table-striped table-bordered table-condensed\">\n",
       "<thead><tr><th>objID</th><th>gsc2ID</th><th>gsc1ID</th><th>hstID</th><th>ra</th><th>dec</th><th>epoch</th><th>raEpsilon</th><th>decEpsilon</th><th>rapm</th><th>decpm</th><th>rapmErr</th><th>decpmErr</th><th>deltaEpoch</th><th>FpgMag</th><th>FpgMagErr</th><th>FpgMagCode</th><th>JpgMag</th><th>JpgMagErr</th><th>JpgMagCode</th><th>NpgMag</th><th>NpgMagErr</th><th>NpgMagCode</th><th>UMag</th><th>UMagErr</th><th>UMagCode</th><th>BMag</th><th>BMagErr</th><th>BMagCode</th><th>VMag</th><th>VMagErr</th><th>VMagCode</th><th>RMag</th><th>RMagErr</th><th>RMagCode</th><th>IMag</th><th>IMagErr</th><th>IMagCode</th><th>JMag</th><th>JMagErr</th><th>JMagCode</th><th>HMag</th><th>HMagErr</th><th>HMagCode</th><th>KMag</th><th>KMagErr</th><th>KMagCode</th><th>class</th><th>semiMajorAxis</th><th>eccentricity</th><th>positionAngle</th><th>sourceStatus</th><th>variableFlag</th><th>multipleFlag</th><th>compassGSC2id</th><th>Mag</th></tr></thead>\n",
       "<thead><tr><th></th><th></th><th></th><th></th><th>deg</th><th>deg</th><th>yr</th><th>arcsec</th><th>arcsec</th><th>mas / yr</th><th>mas / yr</th><th>mas / yr</th><th>mas / yr</th><th>yr</th><th>mag</th><th>mag</th><th></th><th>mag</th><th>mag</th><th></th><th>mag</th><th>mag</th><th></th><th>mag</th><th>mag</th><th></th><th>mag</th><th>mag</th><th></th><th>mag</th><th>mag</th><th></th><th>mag</th><th>mag</th><th></th><th>mag</th><th>mag</th><th></th><th>mag</th><th>mag</th><th></th><th>mag</th><th>mag</th><th></th><th>mag</th><th>mag</th><th></th><th></th><th>pixel</th><th></th><th>deg</th><th></th><th></th><th></th><th></th><th>mag</th></tr></thead>\n",
       "<thead><tr><th>int64</th><th>object</th><th>object</th><th>object</th><th>float64</th><th>float64</th><th>float32</th><th>float32</th><th>float32</th><th>float32</th><th>float32</th><th>float32</th><th>float32</th><th>float32</th><th>float32</th><th>float32</th><th>int32</th><th>float32</th><th>float32</th><th>int32</th><th>float32</th><th>float32</th><th>int32</th><th>float32</th><th>float32</th><th>int32</th><th>float32</th><th>float32</th><th>int32</th><th>float32</th><th>float32</th><th>int32</th><th>float32</th><th>float32</th><th>int32</th><th>float32</th><th>float32</th><th>int32</th><th>float32</th><th>float32</th><th>int32</th><th>float32</th><th>float32</th><th>int32</th><th>float32</th><th>float32</th><th>int32</th><th>int32</th><th>float32</th><th>float32</th><th>float32</th><th>int64</th><th>int32</th><th>int32</th><th>int64</th><th>float32</th></tr></thead>\n",
       "<tr><td>23323175812944</td><td>00424433+4116085</td><td></td><td>2MJG1R2O</td><td>10.684737</td><td>41.269035</td><td>1997.815</td><td>0.08</td><td>0.07</td><td>0.0</td><td>0.0</td><td>0.0</td><td>0.0</td><td>0.0</td><td>99.99</td><td>99.99</td><td>99</td><td>99.99</td><td>99.99</td><td>99</td><td>99.99</td><td>99.99</td><td>99</td><td>99.99</td><td>99.99</td><td>99</td><td>99.99</td><td>99.99</td><td>99</td><td>99.99</td><td>99.99</td><td>99</td><td>99.99</td><td>99.99</td><td>99</td><td>99.99</td><td>99.99</td><td>99</td><td>9.453</td><td>0.052</td><td>47</td><td>8.668</td><td>0.051</td><td>48</td><td>8.475</td><td>0.051</td><td>49</td><td>4</td><td>0.0</td><td>0.0</td><td>0.0</td><td>77777700</td><td>0</td><td>0</td><td>6453800072293</td><td>9.453</td></tr>\n",
       "<tr><td>23323175812948</td><td>00424403+4116069</td><td></td><td>2MJG1R2S</td><td>10.683469</td><td>41.268585</td><td>1997.815</td><td>0.13</td><td>0.12</td><td>0.0</td><td>0.0</td><td>0.0</td><td>0.0</td><td>0.0</td><td>99.99</td><td>99.99</td><td>99</td><td>99.99</td><td>99.99</td><td>99</td><td>99.99</td><td>99.99</td><td>99</td><td>99.99</td><td>99.99</td><td>99</td><td>99.99</td><td>99.99</td><td>99</td><td>99.99</td><td>99.99</td><td>99</td><td>99.99</td><td>99.99</td><td>99</td><td>99.99</td><td>99.99</td><td>99</td><td>9.321</td><td>-999.0</td><td>47</td><td>8.614</td><td>-999.0</td><td>48</td><td>10.601</td><td>0.025</td><td>49</td><td>4</td><td>0.0</td><td>0.0</td><td>0.0</td><td>77777700</td><td>0</td><td>0</td><td>6453800072297</td><td>9.321</td></tr>\n",
       "<tr><td>23323175812933</td><td>00424455+4116103</td><td></td><td>2MJG1R2D</td><td>10.685657</td><td>41.26955</td><td>1997.815</td><td>0.13</td><td>0.12</td><td>0.0</td><td>0.0</td><td>0.0</td><td>0.0</td><td>0.0</td><td>99.99</td><td>99.99</td><td>99</td><td>99.99</td><td>99.99</td><td>99</td><td>99.99</td><td>99.99</td><td>99</td><td>99.99</td><td>99.99</td><td>99</td><td>99.99</td><td>99.99</td><td>99</td><td>99.99</td><td>99.99</td><td>99</td><td>99.99</td><td>99.99</td><td>99</td><td>99.99</td><td>99.99</td><td>99</td><td>10.773</td><td>0.069</td><td>47</td><td>8.532</td><td>-999.0</td><td>48</td><td>8.254</td><td>-999.0</td><td>49</td><td>4</td><td>0.0</td><td>0.0</td><td>0.0</td><td>77777700</td><td>0</td><td>0</td><td>6453800072282</td><td>10.773</td></tr>\n",
       "<tr><td>23323175812939</td><td>00424464+4116092</td><td></td><td>2MJG1R2J</td><td>10.686026</td><td>41.269226</td><td>1997.815</td><td>0.13</td><td>0.12</td><td>0.0</td><td>0.0</td><td>0.0</td><td>0.0</td><td>0.0</td><td>99.99</td><td>99.99</td><td>99</td><td>99.99</td><td>99.99</td><td>99</td><td>99.99</td><td>99.99</td><td>99</td><td>99.99</td><td>99.99</td><td>99</td><td>99.99</td><td>99.99</td><td>99</td><td>99.99</td><td>99.99</td><td>99</td><td>99.99</td><td>99.99</td><td>99</td><td>99.99</td><td>99.99</td><td>99</td><td>9.299</td><td>-999.0</td><td>47</td><td>8.606</td><td>-999.0</td><td>48</td><td>10.119</td><td>0.056</td><td>49</td><td>4</td><td>0.0</td><td>0.0</td><td>0.0</td><td>77777700</td><td>0</td><td>0</td><td>6453800072288</td><td>9.299</td></tr>\n",
       "<tr><td>23323175812930</td><td>00424403+4116108</td><td></td><td>2MJG1R2A</td><td>10.683465</td><td>41.269676</td><td>1997.815</td><td>0.13</td><td>0.11</td><td>0.0</td><td>0.0</td><td>0.0</td><td>0.0</td><td>0.0</td><td>99.99</td><td>99.99</td><td>99</td><td>99.99</td><td>99.99</td><td>99</td><td>99.99</td><td>99.99</td><td>99</td><td>99.99</td><td>99.99</td><td>99</td><td>99.99</td><td>99.99</td><td>99</td><td>99.99</td><td>99.99</td><td>99</td><td>99.99</td><td>99.99</td><td>99</td><td>99.99</td><td>99.99</td><td>99</td><td>11.507</td><td>0.056</td><td>47</td><td>8.744</td><td>-999.0</td><td>48</td><td>8.489</td><td>-999.0</td><td>49</td><td>4</td><td>0.0</td><td>0.0</td><td>0.0</td><td>77777700</td><td>0</td><td>0</td><td>6453800072279</td><td>11.507</td></tr>\n",
       "<tr><td>23323175812931</td><td>00424464+4116106</td><td></td><td>2MJG1R2B</td><td>10.686015</td><td>41.26963</td><td>1997.815</td><td>0.13</td><td>0.12</td><td>0.0</td><td>0.0</td><td>0.0</td><td>0.0</td><td>0.0</td><td>99.99</td><td>99.99</td><td>99</td><td>99.99</td><td>99.99</td><td>99</td><td>99.99</td><td>99.99</td><td>99</td><td>99.99</td><td>99.99</td><td>99</td><td>99.99</td><td>99.99</td><td>99</td><td>99.99</td><td>99.99</td><td>99</td><td>99.99</td><td>99.99</td><td>99</td><td>99.99</td><td>99.99</td><td>99</td><td>9.399</td><td>-999.0</td><td>47</td><td>9.985</td><td>0.07</td><td>48</td><td>8.429</td><td>-999.0</td><td>49</td><td>4</td><td>0.0</td><td>0.0</td><td>0.0</td><td>77777700</td><td>0</td><td>0</td><td>6453800072280</td><td>9.399</td></tr>\n",
       "<tr><td>23323175812973</td><td>00424446+4116016</td><td></td><td>2MJG1R3H</td><td>10.68527</td><td>41.267124</td><td>1997.815</td><td>0.13</td><td>0.12</td><td>0.0</td><td>0.0</td><td>0.0</td><td>0.0</td><td>0.0</td><td>99.99</td><td>99.99</td><td>99</td><td>99.99</td><td>99.99</td><td>99</td><td>99.99</td><td>99.99</td><td>99</td><td>99.99</td><td>99.99</td><td>99</td><td>99.99</td><td>99.99</td><td>99</td><td>99.99</td><td>99.99</td><td>99</td><td>99.99</td><td>99.99</td><td>99</td><td>99.99</td><td>99.99</td><td>99</td><td>12.07</td><td>0.035</td><td>47</td><td>9.301</td><td>-999.0</td><td>48</td><td>9.057</td><td>-999.0</td><td>49</td><td>4</td><td>0.0</td><td>0.0</td><td>0.0</td><td>77777700</td><td>0</td><td>0</td><td>6453800072322</td><td>12.07</td></tr>\n",
       "<tr><td>23323175812966</td><td>00424398+4116028</td><td></td><td>2MJG1R3A</td><td>10.683263</td><td>41.267456</td><td>1997.815</td><td>0.13</td><td>0.12</td><td>0.0</td><td>0.0</td><td>0.0</td><td>0.0</td><td>0.0</td><td>99.99</td><td>99.99</td><td>99</td><td>99.99</td><td>99.99</td><td>99</td><td>99.99</td><td>99.99</td><td>99</td><td>99.99</td><td>99.99</td><td>99</td><td>99.99</td><td>99.99</td><td>99</td><td>99.99</td><td>99.99</td><td>99</td><td>99.99</td><td>99.99</td><td>99</td><td>99.99</td><td>99.99</td><td>99</td><td>12.136</td><td>0.04</td><td>47</td><td>9.226</td><td>-999.0</td><td>48</td><td>8.994</td><td>-999.0</td><td>49</td><td>4</td><td>0.0</td><td>0.0</td><td>0.0</td><td>77777700</td><td>0</td><td>0</td><td>6453800072315</td><td>12.136</td></tr>\n",
       "<tr><td>23323175812979</td><td>00424420+4116009</td><td></td><td>2MJG1R3N</td><td>10.68418</td><td>41.266941</td><td>1997.815</td><td>0.13</td><td>0.12</td><td>0.0</td><td>0.0</td><td>0.0</td><td>0.0</td><td>0.0</td><td>99.99</td><td>99.99</td><td>99</td><td>99.99</td><td>99.99</td><td>99</td><td>99.99</td><td>99.99</td><td>99</td><td>99.99</td><td>99.99</td><td>99</td><td>99.99</td><td>99.99</td><td>99</td><td>99.99</td><td>99.99</td><td>99</td><td>99.99</td><td>99.99</td><td>99</td><td>99.99</td><td>99.99</td><td>99</td><td>10.065</td><td>-999.0</td><td>47</td><td>9.374</td><td>-999.0</td><td>48</td><td>11.504</td><td>0.052</td><td>49</td><td>4</td><td>0.0</td><td>0.0</td><td>0.0</td><td>77777700</td><td>0</td><td>0</td><td>6453800072328</td><td>10.065</td></tr>\n",
       "<tr><td>23323175812958</td><td>00424377+4116045</td><td></td><td>2MJG1R32</td><td>10.682383</td><td>41.267925</td><td>1997.815</td><td>0.1</td><td>0.09</td><td>0.0</td><td>0.0</td><td>0.0</td><td>0.0</td><td>0.0</td><td>99.99</td><td>99.99</td><td>99</td><td>99.99</td><td>99.99</td><td>99</td><td>99.99</td><td>99.99</td><td>99</td><td>99.99</td><td>99.99</td><td>99</td><td>99.99</td><td>99.99</td><td>99</td><td>99.99</td><td>99.99</td><td>99</td><td>99.99</td><td>99.99</td><td>99</td><td>99.99</td><td>99.99</td><td>99</td><td>12.446</td><td>0.061</td><td>47</td><td>11.753</td><td>0.063</td><td>48</td><td>9.075</td><td>-999.0</td><td>49</td><td>4</td><td>0.0</td><td>0.0</td><td>0.0</td><td>77777700</td><td>0</td><td>0</td><td>6453800072307</td><td>12.446</td></tr>\n",
       "<tr><td>23323175812923</td><td>00424386+4116123</td><td></td><td>2MJG1R23</td><td>10.682777</td><td>41.270111</td><td>1997.815</td><td>0.1</td><td>0.09</td><td>0.0</td><td>0.0</td><td>0.0</td><td>0.0</td><td>0.0</td><td>99.99</td><td>99.99</td><td>99</td><td>99.99</td><td>99.99</td><td>99</td><td>99.99</td><td>99.99</td><td>99</td><td>99.99</td><td>99.99</td><td>99</td><td>99.99</td><td>99.99</td><td>99</td><td>99.99</td><td>99.99</td><td>99</td><td>99.99</td><td>99.99</td><td>99</td><td>99.99</td><td>99.99</td><td>99</td><td>9.977</td><td>-999.0</td><td>47</td><td>11.683</td><td>0.056</td><td>48</td><td>11.839</td><td>0.062</td><td>49</td><td>4</td><td>0.0</td><td>0.0</td><td>0.0</td><td>77777700</td><td>0</td><td>0</td><td>6453800072272</td><td>9.977</td></tr>\n",
       "<tr><td>23323175812909</td><td>00424460+4116141</td><td></td><td>2MJG1R1P</td><td>10.685837</td><td>41.270599</td><td>1997.815</td><td>0.13</td><td>0.12</td><td>0.0</td><td>0.0</td><td>0.0</td><td>0.0</td><td>0.0</td><td>99.99</td><td>99.99</td><td>99</td><td>99.99</td><td>99.99</td><td>99</td><td>99.99</td><td>99.99</td><td>99</td><td>99.99</td><td>99.99</td><td>99</td><td>99.99</td><td>99.99</td><td>99</td><td>99.99</td><td>99.99</td><td>99</td><td>99.99</td><td>99.99</td><td>99</td><td>99.99</td><td>99.99</td><td>99</td><td>9.88</td><td>-999.0</td><td>47</td><td>12.051</td><td>0.068</td><td>48</td><td>8.934</td><td>-999.0</td><td>49</td><td>4</td><td>0.0</td><td>0.0</td><td>0.0</td><td>77777700</td><td>0</td><td>0</td><td>6453800072258</td><td>9.88</td></tr>\n",
       "<tr><td>23323175812984</td><td>00424414+4116000</td><td></td><td>2MJG1R3S</td><td>10.683944</td><td>41.266682</td><td>1997.815</td><td>0.13</td><td>0.12</td><td>0.0</td><td>0.0</td><td>0.0</td><td>0.0</td><td>0.0</td><td>99.99</td><td>99.99</td><td>99</td><td>99.99</td><td>99.99</td><td>99</td><td>99.99</td><td>99.99</td><td>99</td><td>99.99</td><td>99.99</td><td>99</td><td>99.99</td><td>99.99</td><td>99</td><td>99.99</td><td>99.99</td><td>99</td><td>99.99</td><td>99.99</td><td>99</td><td>99.99</td><td>99.99</td><td>99</td><td>12.565</td><td>0.055</td><td>47</td><td>9.51</td><td>-999.0</td><td>48</td><td>9.274</td><td>-999.0</td><td>49</td><td>4</td><td>0.0</td><td>0.0</td><td>0.0</td><td>77777700</td><td>0</td><td>0</td><td>6453800072333</td><td>12.565</td></tr>\n",
       "<tr><td>23323175812899</td><td>00424416+4116152</td><td></td><td>2MJG1R1F</td><td>10.684029</td><td>41.270901</td><td>1997.815</td><td>0.13</td><td>0.12</td><td>0.0</td><td>0.0</td><td>0.0</td><td>0.0</td><td>0.0</td><td>99.99</td><td>99.99</td><td>99</td><td>99.99</td><td>99.99</td><td>99</td><td>99.99</td><td>99.99</td><td>99</td><td>99.99</td><td>99.99</td><td>99</td><td>99.99</td><td>99.99</td><td>99</td><td>99.99</td><td>99.99</td><td>99</td><td>99.99</td><td>99.99</td><td>99</td><td>99.99</td><td>99.99</td><td>99</td><td>10.063</td><td>-999.0</td><td>47</td><td>9.359</td><td>-999.0</td><td>48</td><td>11.409</td><td>0.055</td><td>49</td><td>4</td><td>0.0</td><td>0.0</td><td>0.0</td><td>77777700</td><td>0</td><td>0</td><td>6453800072248</td><td>10.063</td></tr>\n",
       "<tr><td>23323175812974</td><td>00424385+4116014</td><td></td><td>2MJG1R3I</td><td>10.682713</td><td>41.267056</td><td>1997.815</td><td>0.13</td><td>0.12</td><td>0.0</td><td>0.0</td><td>0.0</td><td>0.0</td><td>0.0</td><td>99.99</td><td>99.99</td><td>99</td><td>99.99</td><td>99.99</td><td>99</td><td>99.99</td><td>99.99</td><td>99</td><td>99.99</td><td>99.99</td><td>99</td><td>99.99</td><td>99.99</td><td>99</td><td>99.99</td><td>99.99</td><td>99</td><td>99.99</td><td>99.99</td><td>99</td><td>99.99</td><td>99.99</td><td>99</td><td>10.176</td><td>-999.0</td><td>47</td><td>11.876</td><td>0.05</td><td>48</td><td>9.252</td><td>-999.0</td><td>49</td><td>4</td><td>0.0</td><td>0.0</td><td>0.0</td><td>77777700</td><td>0</td><td>0</td><td>6453800072323</td><td>10.176</td></tr>\n",
       "<tr><td>23323175812962</td><td>00424497+4116034</td><td></td><td>2MJG1R36</td><td>10.687414</td><td>41.267632</td><td>1997.815</td><td>0.13</td><td>0.12</td><td>0.0</td><td>0.0</td><td>0.0</td><td>0.0</td><td>0.0</td><td>99.99</td><td>99.99</td><td>99</td><td>99.99</td><td>99.99</td><td>99</td><td>99.99</td><td>99.99</td><td>99</td><td>99.99</td><td>99.99</td><td>99</td><td>99.99</td><td>99.99</td><td>99</td><td>99.99</td><td>99.99</td><td>99</td><td>99.99</td><td>99.99</td><td>99</td><td>99.99</td><td>99.99</td><td>99</td><td>12.371</td><td>0.036</td><td>47</td><td>9.627</td><td>-999.0</td><td>48</td><td>9.379</td><td>-999.0</td><td>49</td><td>4</td><td>0.0</td><td>0.0</td><td>0.0</td><td>77777700</td><td>0</td><td>0</td><td>6453800072311</td><td>12.371</td></tr>\n",
       "<tr><td>23323175812907</td><td>00424484+4116145</td><td></td><td>2MJG1R1N</td><td>10.686846</td><td>41.270714</td><td>1997.815</td><td>0.13</td><td>0.11</td><td>0.0</td><td>0.0</td><td>0.0</td><td>0.0</td><td>0.0</td><td>99.99</td><td>99.99</td><td>99</td><td>99.99</td><td>99.99</td><td>99</td><td>99.99</td><td>99.99</td><td>99</td><td>99.99</td><td>99.99</td><td>99</td><td>99.99</td><td>99.99</td><td>99</td><td>99.99</td><td>99.99</td><td>99</td><td>99.99</td><td>99.99</td><td>99</td><td>99.99</td><td>99.99</td><td>99</td><td>12.872</td><td>0.061</td><td>47</td><td>9.433</td><td>-999.0</td><td>48</td><td>9.178</td><td>-999.0</td><td>49</td><td>4</td><td>0.0</td><td>0.0</td><td>0.0</td><td>77777700</td><td>0</td><td>0</td><td>6453800072256</td><td>12.872</td></tr>\n",
       "<tr><td>...</td><td>...</td><td>...</td><td>...</td><td>...</td><td>...</td><td>...</td><td>...</td><td>...</td><td>...</td><td>...</td><td>...</td><td>...</td><td>...</td><td>...</td><td>...</td><td>...</td><td>...</td><td>...</td><td>...</td><td>...</td><td>...</td><td>...</td><td>...</td><td>...</td><td>...</td><td>...</td><td>...</td><td>...</td><td>...</td><td>...</td><td>...</td><td>...</td><td>...</td><td>...</td><td>...</td><td>...</td><td>...</td><td>...</td><td>...</td><td>...</td><td>...</td><td>...</td><td>...</td><td>...</td><td>...</td><td>...</td><td>...</td><td>...</td><td>...</td><td>...</td><td>...</td><td>...</td><td>...</td><td>...</td><td>...</td></tr>\n",
       "<tr><td>23323175812626</td><td>00424377+4116403</td><td></td><td>2MJG1QTU</td><td>10.682397</td><td>41.277866</td><td>1997.815</td><td>0.24</td><td>0.21</td><td>0.0</td><td>0.0</td><td>0.0</td><td>0.0</td><td>0.0</td><td>99.99</td><td>99.99</td><td>99</td><td>99.99</td><td>99.99</td><td>99</td><td>99.99</td><td>99.99</td><td>99</td><td>99.99</td><td>99.99</td><td>99</td><td>99.99</td><td>99.99</td><td>99</td><td>99.99</td><td>99.99</td><td>99</td><td>99.99</td><td>99.99</td><td>99</td><td>99.99</td><td>99.99</td><td>99</td><td>12.054</td><td>0.156</td><td>47</td><td>11.059</td><td>-999.0</td><td>48</td><td>13.635</td><td>0.186</td><td>49</td><td>4</td><td>0.0</td><td>0.0</td><td>0.0</td><td>77777700</td><td>0</td><td>0</td><td>6453800072110</td><td>12.054</td></tr>\n",
       "<tr><td>23323175813123</td><td>00424343+4115351</td><td></td><td>2MJG1R7N</td><td>10.680986</td><td>41.259754</td><td>1997.815</td><td>0.13</td><td>0.12</td><td>0.0</td><td>0.0</td><td>0.0</td><td>0.0</td><td>0.0</td><td>99.99</td><td>99.99</td><td>99</td><td>99.99</td><td>99.99</td><td>99</td><td>99.99</td><td>99.99</td><td>99</td><td>99.99</td><td>99.99</td><td>99</td><td>99.99</td><td>99.99</td><td>99</td><td>99.99</td><td>99.99</td><td>99</td><td>99.99</td><td>99.99</td><td>99</td><td>99.99</td><td>99.99</td><td>99</td><td>11.782</td><td>-999.0</td><td>47</td><td>11.123</td><td>-999.0</td><td>48</td><td>12.853</td><td>0.062</td><td>49</td><td>4</td><td>0.0</td><td>0.0</td><td>0.0</td><td>77777700</td><td>0</td><td>0</td><td>6453800072472</td><td>11.782</td></tr>\n",
       "<tr><td>23323175812625</td><td>00424502+4116405</td><td></td><td>2MJG1QTT</td><td>10.687587</td><td>41.27792</td><td>1997.815</td><td>0.13</td><td>0.12</td><td>0.0</td><td>0.0</td><td>0.0</td><td>0.0</td><td>0.0</td><td>99.99</td><td>99.99</td><td>99</td><td>99.99</td><td>99.99</td><td>99</td><td>99.99</td><td>99.99</td><td>99</td><td>99.99</td><td>99.99</td><td>99</td><td>99.99</td><td>99.99</td><td>99</td><td>99.99</td><td>99.99</td><td>99</td><td>99.99</td><td>99.99</td><td>99</td><td>99.99</td><td>99.99</td><td>99</td><td>13.763</td><td>0.069</td><td>47</td><td>10.926</td><td>-999.0</td><td>48</td><td>10.688</td><td>-999.0</td><td>49</td><td>4</td><td>0.0</td><td>0.0</td><td>0.0</td><td>77777700</td><td>0</td><td>0</td><td>6453800072109</td><td>13.763</td></tr>\n",
       "<tr><td>23323175812617</td><td>00424467+4116412</td><td></td><td>2MJG1QTL</td><td>10.68613</td><td>41.278122</td><td>1997.815</td><td>0.13</td><td>0.12</td><td>0.0</td><td>0.0</td><td>0.0</td><td>0.0</td><td>0.0</td><td>99.99</td><td>99.99</td><td>99</td><td>99.99</td><td>99.99</td><td>99</td><td>99.99</td><td>99.99</td><td>99</td><td>99.99</td><td>99.99</td><td>99</td><td>99.99</td><td>99.99</td><td>99</td><td>99.99</td><td>99.99</td><td>99</td><td>99.99</td><td>99.99</td><td>99</td><td>99.99</td><td>99.99</td><td>99</td><td>13.715</td><td>0.057</td><td>47</td><td>10.941</td><td>-999.0</td><td>48</td><td>10.713</td><td>-999.0</td><td>49</td><td>4</td><td>0.0</td><td>0.0</td><td>0.0</td><td>77777700</td><td>0</td><td>0</td><td>6453800072101</td><td>13.715</td></tr>\n",
       "<tr><td>23323175813132</td><td>00424461+4115334</td><td></td><td>2MJG1R7W</td><td>10.685916</td><td>41.259296</td><td>1997.815</td><td>0.13</td><td>0.12</td><td>0.0</td><td>0.0</td><td>0.0</td><td>0.0</td><td>0.0</td><td>99.99</td><td>99.99</td><td>99</td><td>99.99</td><td>99.99</td><td>99</td><td>99.99</td><td>99.99</td><td>99</td><td>99.99</td><td>99.99</td><td>99</td><td>99.99</td><td>99.99</td><td>99</td><td>99.99</td><td>99.99</td><td>99</td><td>99.99</td><td>99.99</td><td>99</td><td>99.99</td><td>99.99</td><td>99</td><td>12.333</td><td>0.093</td><td>47</td><td>11.185</td><td>-999.0</td><td>48</td><td>10.941</td><td>-999.0</td><td>49</td><td>4</td><td>0.0</td><td>0.0</td><td>0.0</td><td>77777700</td><td>0</td><td>0</td><td>6453800072481</td><td>12.333</td></tr>\n",
       "<tr><td>23323175812784</td><td>00424577+4116376</td><td></td><td>2MJG1QY8</td><td>10.690737</td><td>41.277138</td><td>1997.815</td><td>0.16</td><td>0.14</td><td>0.0</td><td>0.0</td><td>0.0</td><td>0.0</td><td>0.0</td><td>99.99</td><td>99.99</td><td>99</td><td>99.99</td><td>99.99</td><td>99</td><td>99.99</td><td>99.99</td><td>99</td><td>99.99</td><td>99.99</td><td>99</td><td>99.99</td><td>99.99</td><td>99</td><td>99.99</td><td>99.99</td><td>99</td><td>99.99</td><td>99.99</td><td>99</td><td>99.99</td><td>99.99</td><td>99</td><td>11.631</td><td>-999.0</td><td>47</td><td>11.598</td><td>0.13</td><td>48</td><td>10.734</td><td>-999.0</td><td>49</td><td>4</td><td>0.0</td><td>0.0</td><td>0.0</td><td>77777700</td><td>0</td><td>0</td><td>6453800072133</td><td>11.631</td></tr>\n",
       "<tr><td>23323175813135</td><td>00424426+4115330</td><td></td><td>2MJG1R7Z</td><td>10.684419</td><td>41.25919</td><td>1997.815</td><td>0.16</td><td>0.15</td><td>0.0</td><td>0.0</td><td>0.0</td><td>0.0</td><td>0.0</td><td>99.99</td><td>99.99</td><td>99</td><td>99.99</td><td>99.99</td><td>99</td><td>99.99</td><td>99.99</td><td>99</td><td>99.99</td><td>99.99</td><td>99</td><td>99.99</td><td>99.99</td><td>99</td><td>99.99</td><td>99.99</td><td>99</td><td>99.99</td><td>99.99</td><td>99</td><td>99.99</td><td>99.99</td><td>99</td><td>13.746</td><td>0.123</td><td>47</td><td>11.171</td><td>-999.0</td><td>48</td><td>10.936</td><td>-999.0</td><td>49</td><td>4</td><td>0.0</td><td>0.0</td><td>0.0</td><td>77777700</td><td>0</td><td>0</td><td>6453800072484</td><td>13.746</td></tr>\n",
       "<tr><td>23323175812769</td><td>00424539+4116398</td><td></td><td>2MJG1QXT</td><td>10.689136</td><td>41.277737</td><td>1997.815</td><td>0.14</td><td>0.13</td><td>0.0</td><td>0.0</td><td>0.0</td><td>0.0</td><td>0.0</td><td>99.99</td><td>99.99</td><td>99</td><td>99.99</td><td>99.99</td><td>99</td><td>99.99</td><td>99.99</td><td>99</td><td>99.99</td><td>99.99</td><td>99</td><td>99.99</td><td>99.99</td><td>99</td><td>99.99</td><td>99.99</td><td>99</td><td>99.99</td><td>99.99</td><td>99</td><td>99.99</td><td>99.99</td><td>99</td><td>11.691</td><td>-999.0</td><td>47</td><td>13.026</td><td>0.077</td><td>48</td><td>10.77</td><td>-999.0</td><td>49</td><td>4</td><td>0.0</td><td>0.0</td><td>0.0</td><td>77777700</td><td>0</td><td>0</td><td>6453800072118</td><td>11.691</td></tr>\n",
       "<tr><td>23323175813133</td><td>00424479+4115332</td><td></td><td>2MJG1R7X</td><td>10.686655</td><td>41.259235</td><td>1997.815</td><td>0.13</td><td>0.11</td><td>0.0</td><td>0.0</td><td>0.0</td><td>0.0</td><td>0.0</td><td>99.99</td><td>99.99</td><td>99</td><td>99.99</td><td>99.99</td><td>99</td><td>99.99</td><td>99.99</td><td>99</td><td>99.99</td><td>99.99</td><td>99</td><td>99.99</td><td>99.99</td><td>99</td><td>99.99</td><td>99.99</td><td>99</td><td>99.99</td><td>99.99</td><td>99</td><td>99.99</td><td>99.99</td><td>99</td><td>11.895</td><td>-999.0</td><td>47</td><td>12.492</td><td>0.163</td><td>48</td><td>12.586</td><td>0.128</td><td>49</td><td>4</td><td>0.0</td><td>0.0</td><td>0.0</td><td>77777700</td><td>0</td><td>0</td><td>6453800072482</td><td>11.895</td></tr>\n",
       "<tr><td>23323175812895</td><td>00424134+4116164</td><td></td><td>2MJG1R1B</td><td>10.672269</td><td>41.27124</td><td>1997.815</td><td>0.26</td><td>0.23</td><td>0.0</td><td>0.0</td><td>0.0</td><td>0.0</td><td>0.0</td><td>99.99</td><td>99.99</td><td>99</td><td>99.99</td><td>99.99</td><td>99</td><td>99.99</td><td>99.99</td><td>99</td><td>99.99</td><td>99.99</td><td>99</td><td>99.99</td><td>99.99</td><td>99</td><td>99.99</td><td>99.99</td><td>99</td><td>99.99</td><td>99.99</td><td>99</td><td>99.99</td><td>99.99</td><td>99</td><td>14.831</td><td>0.179</td><td>47</td><td>11.242</td><td>-999.0</td><td>48</td><td>11.031</td><td>-999.0</td><td>49</td><td>4</td><td>0.0</td><td>0.0</td><td>0.0</td><td>77777700</td><td>0</td><td>0</td><td>6453800072244</td><td>14.831</td></tr>\n",
       "<tr><td>23323175812950</td><td>00424744+4116068</td><td></td><td>2MJG1R2U</td><td>10.697706</td><td>41.268562</td><td>1997.815</td><td>0.5</td><td>0.5</td><td>0.0</td><td>0.0</td><td>0.0</td><td>0.0</td><td>0.0</td><td>99.99</td><td>99.99</td><td>99</td><td>99.99</td><td>99.99</td><td>99</td><td>99.99</td><td>99.99</td><td>99</td><td>99.99</td><td>99.99</td><td>99</td><td>99.99</td><td>99.99</td><td>99</td><td>99.99</td><td>99.99</td><td>99</td><td>99.99</td><td>99.99</td><td>99</td><td>99.99</td><td>99.99</td><td>99</td><td>11.846</td><td>-999.0</td><td>47</td><td>13.872</td><td>0.274</td><td>48</td><td>10.925</td><td>-999.0</td><td>49</td><td>4</td><td>0.0</td><td>0.0</td><td>0.0</td><td>77777700</td><td>0</td><td>0</td><td>6453800072299</td><td>11.846</td></tr>\n",
       "<tr><td>23323175813134</td><td>00424357+4115331</td><td></td><td>2MJG1R7Y</td><td>10.68157</td><td>41.259209</td><td>1997.815</td><td>0.24</td><td>0.22</td><td>0.0</td><td>0.0</td><td>0.0</td><td>0.0</td><td>0.0</td><td>99.99</td><td>99.99</td><td>99</td><td>99.99</td><td>99.99</td><td>99</td><td>99.99</td><td>99.99</td><td>99</td><td>99.99</td><td>99.99</td><td>99</td><td>99.99</td><td>99.99</td><td>99</td><td>99.99</td><td>99.99</td><td>99</td><td>99.99</td><td>99.99</td><td>99</td><td>99.99</td><td>99.99</td><td>99</td><td>14.466</td><td>0.171</td><td>47</td><td>11.207</td><td>-999.0</td><td>48</td><td>10.969</td><td>-999.0</td><td>49</td><td>4</td><td>0.0</td><td>0.0</td><td>0.0</td><td>77777700</td><td>0</td><td>0</td><td>6453800072483</td><td>14.466</td></tr>\n",
       "<tr><td>23323175813117</td><td>00424292+4115357</td><td></td><td>2MJG1R7H</td><td>10.678854</td><td>41.259926</td><td>1997.815</td><td>0.13</td><td>0.12</td><td>0.0</td><td>0.0</td><td>0.0</td><td>0.0</td><td>0.0</td><td>99.99</td><td>99.99</td><td>99</td><td>99.99</td><td>99.99</td><td>99</td><td>99.99</td><td>99.99</td><td>99</td><td>99.99</td><td>99.99</td><td>99</td><td>99.99</td><td>99.99</td><td>99</td><td>99.99</td><td>99.99</td><td>99</td><td>99.99</td><td>99.99</td><td>99</td><td>99.99</td><td>99.99</td><td>99</td><td>13.002</td><td>0.095</td><td>47</td><td>11.069</td><td>-999.0</td><td>48</td><td>10.853</td><td>-999.0</td><td>49</td><td>4</td><td>0.0</td><td>0.0</td><td>0.0</td><td>77777700</td><td>0</td><td>0</td><td>6453800072466</td><td>13.002</td></tr>\n",
       "<tr><td>23323175813066</td><td>00424198+4115437</td><td></td><td>2MJG1R62</td><td>10.674938</td><td>41.262161</td><td>1997.815</td><td>0.13</td><td>0.12</td><td>0.0</td><td>0.0</td><td>0.0</td><td>0.0</td><td>0.0</td><td>99.99</td><td>99.99</td><td>99</td><td>99.99</td><td>99.99</td><td>99</td><td>99.99</td><td>99.99</td><td>99</td><td>99.99</td><td>99.99</td><td>99</td><td>99.99</td><td>99.99</td><td>99</td><td>99.99</td><td>99.99</td><td>99</td><td>99.99</td><td>99.99</td><td>99</td><td>99.99</td><td>99.99</td><td>99</td><td>11.751</td><td>-999.0</td><td>47</td><td>12.879</td><td>0.052</td><td>48</td><td>10.879</td><td>-999.0</td><td>49</td><td>4</td><td>0.0</td><td>0.0</td><td>0.0</td><td>77777700</td><td>0</td><td>0</td><td>6453800072415</td><td>11.751</td></tr>\n",
       "<tr><td>23323175812883</td><td>00424732+4116187</td><td></td><td>2MJG1R0Z</td><td>10.697175</td><td>41.271881</td><td>1997.815</td><td>0.2</td><td>0.19</td><td>0.0</td><td>0.0</td><td>0.0</td><td>0.0</td><td>0.0</td><td>99.99</td><td>99.99</td><td>99</td><td>99.99</td><td>99.99</td><td>99</td><td>99.99</td><td>99.99</td><td>99</td><td>99.99</td><td>99.99</td><td>99</td><td>99.99</td><td>99.99</td><td>99</td><td>99.99</td><td>99.99</td><td>99</td><td>99.99</td><td>99.99</td><td>99</td><td>99.99</td><td>99.99</td><td>99</td><td>13.897</td><td>0.071</td><td>47</td><td>11.144</td><td>-999.0</td><td>48</td><td>10.921</td><td>-999.0</td><td>49</td><td>4</td><td>0.0</td><td>0.0</td><td>0.0</td><td>77777700</td><td>0</td><td>0</td><td>6453800072232</td><td>13.897</td></tr>\n",
       "<tr><td>23323175812876</td><td>00424137+4116206</td><td></td><td>2MJG1R0S</td><td>10.672393</td><td>41.272404</td><td>1997.815</td><td>0.5</td><td>0.5</td><td>0.0</td><td>0.0</td><td>0.0</td><td>0.0</td><td>0.0</td><td>99.99</td><td>99.99</td><td>99</td><td>99.99</td><td>99.99</td><td>99</td><td>99.99</td><td>99.99</td><td>99</td><td>99.99</td><td>99.99</td><td>99</td><td>99.99</td><td>99.99</td><td>99</td><td>99.99</td><td>99.99</td><td>99</td><td>99.99</td><td>99.99</td><td>99</td><td>99.99</td><td>99.99</td><td>99</td><td>11.947</td><td>-999.0</td><td>47</td><td>15.32</td><td>0.516</td><td>48</td><td>11.044</td><td>-999.0</td><td>49</td><td>4</td><td>0.0</td><td>0.0</td><td>0.0</td><td>77777700</td><td>0</td><td>0</td><td>6453800072225</td><td>11.947</td></tr>\n",
       "<tr><td>23323175812857</td><td>00424714+4116245</td><td></td><td>2MJG1R09</td><td>10.69642</td><td>41.273483</td><td>1997.815</td><td>0.25</td><td>0.17</td><td>0.0</td><td>0.0</td><td>0.0</td><td>0.0</td><td>0.0</td><td>99.99</td><td>99.99</td><td>99</td><td>99.99</td><td>99.99</td><td>99</td><td>99.99</td><td>99.99</td><td>99</td><td>99.99</td><td>99.99</td><td>99</td><td>99.99</td><td>99.99</td><td>99</td><td>99.99</td><td>99.99</td><td>99</td><td>99.99</td><td>99.99</td><td>99</td><td>99.99</td><td>99.99</td><td>99</td><td>11.819</td><td>-999.0</td><td>47</td><td>13.206</td><td>0.151</td><td>48</td><td>10.907</td><td>-999.0</td><td>49</td><td>4</td><td>0.0</td><td>0.0</td><td>0.0</td><td>77777700</td><td>0</td><td>0</td><td>6453800072206</td><td>11.819</td></tr>\n",
       "</table></div>"
      ],
      "text/plain": [
       "<Table length=122>\n",
       "    objID           gsc2ID      gsc1ID  hstID       ra       dec     epoch   raEpsilon decEpsilon   rapm    decpm   rapmErr  ... KMagErr KMagCode class semiMajorAxis eccentricity positionAngle sourceStatus variableFlag multipleFlag compassGSC2id   Mag  \n",
       "                                                   deg       deg       yr      arcsec    arcsec   mas / yr mas / yr mas / yr ...   mag                      pixel                       deg                                                             mag  \n",
       "    int64           object      object  object   float64   float64  float32   float32   float32   float32  float32  float32  ... float32  int32   int32    float32      float32       float32       int64        int32        int32         int64     float32\n",
       "-------------- ---------------- ------ -------- --------- --------- -------- --------- ---------- -------- -------- -------- ... ------- -------- ----- ------------- ------------ ------------- ------------ ------------ ------------ ------------- -------\n",
       "23323175812944 00424433+4116085        2MJG1R2O 10.684737 41.269035 1997.815      0.08       0.07      0.0      0.0      0.0 ...   0.051       49     4           0.0          0.0           0.0     77777700            0            0 6453800072293   9.453\n",
       "23323175812948 00424403+4116069        2MJG1R2S 10.683469 41.268585 1997.815      0.13       0.12      0.0      0.0      0.0 ...   0.025       49     4           0.0          0.0           0.0     77777700            0            0 6453800072297   9.321\n",
       "23323175812933 00424455+4116103        2MJG1R2D 10.685657  41.26955 1997.815      0.13       0.12      0.0      0.0      0.0 ...  -999.0       49     4           0.0          0.0           0.0     77777700            0            0 6453800072282  10.773\n",
       "23323175812939 00424464+4116092        2MJG1R2J 10.686026 41.269226 1997.815      0.13       0.12      0.0      0.0      0.0 ...   0.056       49     4           0.0          0.0           0.0     77777700            0            0 6453800072288   9.299\n",
       "23323175812930 00424403+4116108        2MJG1R2A 10.683465 41.269676 1997.815      0.13       0.11      0.0      0.0      0.0 ...  -999.0       49     4           0.0          0.0           0.0     77777700            0            0 6453800072279  11.507\n",
       "23323175812931 00424464+4116106        2MJG1R2B 10.686015  41.26963 1997.815      0.13       0.12      0.0      0.0      0.0 ...  -999.0       49     4           0.0          0.0           0.0     77777700            0            0 6453800072280   9.399\n",
       "23323175812973 00424446+4116016        2MJG1R3H  10.68527 41.267124 1997.815      0.13       0.12      0.0      0.0      0.0 ...  -999.0       49     4           0.0          0.0           0.0     77777700            0            0 6453800072322   12.07\n",
       "23323175812966 00424398+4116028        2MJG1R3A 10.683263 41.267456 1997.815      0.13       0.12      0.0      0.0      0.0 ...  -999.0       49     4           0.0          0.0           0.0     77777700            0            0 6453800072315  12.136\n",
       "23323175812979 00424420+4116009        2MJG1R3N  10.68418 41.266941 1997.815      0.13       0.12      0.0      0.0      0.0 ...   0.052       49     4           0.0          0.0           0.0     77777700            0            0 6453800072328  10.065\n",
       "23323175812958 00424377+4116045        2MJG1R32 10.682383 41.267925 1997.815       0.1       0.09      0.0      0.0      0.0 ...  -999.0       49     4           0.0          0.0           0.0     77777700            0            0 6453800072307  12.446\n",
       "23323175812923 00424386+4116123        2MJG1R23 10.682777 41.270111 1997.815       0.1       0.09      0.0      0.0      0.0 ...   0.062       49     4           0.0          0.0           0.0     77777700            0            0 6453800072272   9.977\n",
       "23323175812909 00424460+4116141        2MJG1R1P 10.685837 41.270599 1997.815      0.13       0.12      0.0      0.0      0.0 ...  -999.0       49     4           0.0          0.0           0.0     77777700            0            0 6453800072258    9.88\n",
       "23323175812984 00424414+4116000        2MJG1R3S 10.683944 41.266682 1997.815      0.13       0.12      0.0      0.0      0.0 ...  -999.0       49     4           0.0          0.0           0.0     77777700            0            0 6453800072333  12.565\n",
       "23323175812899 00424416+4116152        2MJG1R1F 10.684029 41.270901 1997.815      0.13       0.12      0.0      0.0      0.0 ...   0.055       49     4           0.0          0.0           0.0     77777700            0            0 6453800072248  10.063\n",
       "23323175812974 00424385+4116014        2MJG1R3I 10.682713 41.267056 1997.815      0.13       0.12      0.0      0.0      0.0 ...  -999.0       49     4           0.0          0.0           0.0     77777700            0            0 6453800072323  10.176\n",
       "23323175812962 00424497+4116034        2MJG1R36 10.687414 41.267632 1997.815      0.13       0.12      0.0      0.0      0.0 ...  -999.0       49     4           0.0          0.0           0.0     77777700            0            0 6453800072311  12.371\n",
       "23323175812907 00424484+4116145        2MJG1R1N 10.686846 41.270714 1997.815      0.13       0.11      0.0      0.0      0.0 ...  -999.0       49     4           0.0          0.0           0.0     77777700            0            0 6453800072256  12.872\n",
       "           ...              ...    ...      ...       ...       ...      ...       ...        ...      ...      ...      ... ...     ...      ...   ...           ...          ...           ...          ...          ...          ...           ...     ...\n",
       "23323175812626 00424377+4116403        2MJG1QTU 10.682397 41.277866 1997.815      0.24       0.21      0.0      0.0      0.0 ...   0.186       49     4           0.0          0.0           0.0     77777700            0            0 6453800072110  12.054\n",
       "23323175813123 00424343+4115351        2MJG1R7N 10.680986 41.259754 1997.815      0.13       0.12      0.0      0.0      0.0 ...   0.062       49     4           0.0          0.0           0.0     77777700            0            0 6453800072472  11.782\n",
       "23323175812625 00424502+4116405        2MJG1QTT 10.687587  41.27792 1997.815      0.13       0.12      0.0      0.0      0.0 ...  -999.0       49     4           0.0          0.0           0.0     77777700            0            0 6453800072109  13.763\n",
       "23323175812617 00424467+4116412        2MJG1QTL  10.68613 41.278122 1997.815      0.13       0.12      0.0      0.0      0.0 ...  -999.0       49     4           0.0          0.0           0.0     77777700            0            0 6453800072101  13.715\n",
       "23323175813132 00424461+4115334        2MJG1R7W 10.685916 41.259296 1997.815      0.13       0.12      0.0      0.0      0.0 ...  -999.0       49     4           0.0          0.0           0.0     77777700            0            0 6453800072481  12.333\n",
       "23323175812784 00424577+4116376        2MJG1QY8 10.690737 41.277138 1997.815      0.16       0.14      0.0      0.0      0.0 ...  -999.0       49     4           0.0          0.0           0.0     77777700            0            0 6453800072133  11.631\n",
       "23323175813135 00424426+4115330        2MJG1R7Z 10.684419  41.25919 1997.815      0.16       0.15      0.0      0.0      0.0 ...  -999.0       49     4           0.0          0.0           0.0     77777700            0            0 6453800072484  13.746\n",
       "23323175812769 00424539+4116398        2MJG1QXT 10.689136 41.277737 1997.815      0.14       0.13      0.0      0.0      0.0 ...  -999.0       49     4           0.0          0.0           0.0     77777700            0            0 6453800072118  11.691\n",
       "23323175813133 00424479+4115332        2MJG1R7X 10.686655 41.259235 1997.815      0.13       0.11      0.0      0.0      0.0 ...   0.128       49     4           0.0          0.0           0.0     77777700            0            0 6453800072482  11.895\n",
       "23323175812895 00424134+4116164        2MJG1R1B 10.672269  41.27124 1997.815      0.26       0.23      0.0      0.0      0.0 ...  -999.0       49     4           0.0          0.0           0.0     77777700            0            0 6453800072244  14.831\n",
       "23323175812950 00424744+4116068        2MJG1R2U 10.697706 41.268562 1997.815       0.5        0.5      0.0      0.0      0.0 ...  -999.0       49     4           0.0          0.0           0.0     77777700            0            0 6453800072299  11.846\n",
       "23323175813134 00424357+4115331        2MJG1R7Y  10.68157 41.259209 1997.815      0.24       0.22      0.0      0.0      0.0 ...  -999.0       49     4           0.0          0.0           0.0     77777700            0            0 6453800072483  14.466\n",
       "23323175813117 00424292+4115357        2MJG1R7H 10.678854 41.259926 1997.815      0.13       0.12      0.0      0.0      0.0 ...  -999.0       49     4           0.0          0.0           0.0     77777700            0            0 6453800072466  13.002\n",
       "23323175813066 00424198+4115437        2MJG1R62 10.674938 41.262161 1997.815      0.13       0.12      0.0      0.0      0.0 ...  -999.0       49     4           0.0          0.0           0.0     77777700            0            0 6453800072415  11.751\n",
       "23323175812883 00424732+4116187        2MJG1R0Z 10.697175 41.271881 1997.815       0.2       0.19      0.0      0.0      0.0 ...  -999.0       49     4           0.0          0.0           0.0     77777700            0            0 6453800072232  13.897\n",
       "23323175812876 00424137+4116206        2MJG1R0S 10.672393 41.272404 1997.815       0.5        0.5      0.0      0.0      0.0 ...  -999.0       49     4           0.0          0.0           0.0     77777700            0            0 6453800072225  11.947\n",
       "23323175812857 00424714+4116245        2MJG1R09  10.69642 41.273483 1997.815      0.25       0.17      0.0      0.0      0.0 ...  -999.0       49     4           0.0          0.0           0.0     77777700            0            0 6453800072206  11.819"
      ]
     },
     "execution_count": 2,
     "metadata": {},
     "output_type": "execute_result"
    }
   ],
   "source": [
    "from astropy.coordinates import SkyCoord\n",
    "from astroquery.vo_conesearch import ConeSearch\n",
    "\n",
    "c = SkyCoord.from_name('M31')\n",
    "result = ConeSearch.query_region(c, '0.01 deg')\n",
    "\n",
    "result"
   ]
  },
  {
   "cell_type": "markdown",
   "id": "d41a569d",
   "metadata": {},
   "source": [
    "- [Minor Planet Center Queries](https://minorplanetcenter.net/web_service/): Retrieve ephemerides, reported observations, and basic (orbital) properties of asteroids and comets."
   ]
  },
  {
   "cell_type": "code",
   "execution_count": 3,
   "id": "2128c5be",
   "metadata": {},
   "outputs": [
    {
     "data": {
      "text/html": [
       "<div><i>Table length=21</i>\n",
       "<table id=\"table5113918608\" class=\"table-striped table-bordered table-condensed\">\n",
       "<thead><tr><th>Date</th><th>RA</th><th>Dec</th><th>Delta</th><th>r</th><th>Elongation</th><th>Phase</th><th>V</th><th>Proper motion</th><th>Direction</th><th>Uncertainty 3sig</th><th>Unc. P.A.</th></tr></thead>\n",
       "<thead><tr><th></th><th>deg</th><th>deg</th><th>AU</th><th>AU</th><th>deg</th><th>deg</th><th>mag</th><th>arcsec / h</th><th>deg</th><th>arcsec</th><th>deg</th></tr></thead>\n",
       "<thead><tr><th>Time</th><th>float64</th><th>float64</th><th>float64</th><th>float64</th><th>float64</th><th>float64</th><th>float64</th><th>float64</th><th>float64</th><th>int64</th><th>float64</th></tr></thead>\n",
       "<tr><td>2024-01-27 20:32:17.000</td><td>51.87833333333333</td><td>19.361666666666668</td><td>2.554</td><td>2.998</td><td>107.3</td><td>18.3</td><td>12.6</td><td>13.28</td><td>76.0</td><td>0</td><td>77.7</td></tr>\n",
       "<tr><td>2024-01-28 20:32:17.000</td><td>51.97208333333333</td><td>19.38361111111111</td><td>2.567</td><td>2.997</td><td>106.4</td><td>18.4</td><td>12.6</td><td>14.09</td><td>76.0</td><td>0</td><td>76.7</td></tr>\n",
       "<tr><td>2024-01-29 20:32:17.000</td><td>52.07125</td><td>19.40694444444444</td><td>2.579</td><td>2.996</td><td>105.5</td><td>18.5</td><td>12.7</td><td>14.89</td><td>76.1</td><td>0</td><td>77.6</td></tr>\n",
       "<tr><td>2024-01-30 20:32:17.000</td><td>52.176249999999996</td><td>19.43138888888889</td><td>2.592</td><td>2.995</td><td>104.6</td><td>18.6</td><td>12.7</td><td>15.68</td><td>76.1</td><td>0</td><td>76.6</td></tr>\n",
       "<tr><td>2024-01-31 20:32:17.000</td><td>52.28666666666666</td><td>19.45722222222222</td><td>2.604</td><td>2.994</td><td>103.7</td><td>18.6</td><td>12.7</td><td>16.46</td><td>76.1</td><td>0</td><td>76.6</td></tr>\n",
       "<tr><td>2024-02-01 20:32:17.000</td><td>52.402499999999996</td><td>19.484166666666667</td><td>2.617</td><td>2.993</td><td>102.7</td><td>18.7</td><td>12.7</td><td>17.24</td><td>76.2</td><td>0</td><td>76.6</td></tr>\n",
       "<tr><td>2024-02-02 20:32:17.000</td><td>52.523333333333326</td><td>19.51222222222222</td><td>2.63</td><td>2.992</td><td>101.9</td><td>18.8</td><td>12.7</td><td>18.01</td><td>76.2</td><td>0</td><td>76.6</td></tr>\n",
       "<tr><td>2024-02-03 20:32:17.000</td><td>52.649583333333325</td><td>19.54138888888889</td><td>2.643</td><td>2.991</td><td>101.0</td><td>18.9</td><td>12.7</td><td>18.77</td><td>76.2</td><td>0</td><td>77.5</td></tr>\n",
       "<tr><td>2024-02-04 20:32:17.000</td><td>52.78124999999999</td><td>19.571666666666665</td><td>2.655</td><td>2.99</td><td>100.1</td><td>18.9</td><td>12.7</td><td>19.52</td><td>76.3</td><td>0</td><td>76.5</td></tr>\n",
       "<tr><td>2024-02-05 20:32:17.000</td><td>52.91791666666666</td><td>19.603055555555557</td><td>2.668</td><td>2.989</td><td>99.2</td><td>19.0</td><td>12.7</td><td>20.26</td><td>76.3</td><td>0</td><td>77.5</td></tr>\n",
       "<tr><td>2024-02-06 20:32:17.000</td><td>53.059999999999995</td><td>19.635555555555555</td><td>2.681</td><td>2.988</td><td>98.3</td><td>19.1</td><td>12.7</td><td>21.0</td><td>76.4</td><td>0</td><td>77.4</td></tr>\n",
       "<tr><td>2024-02-07 20:32:17.000</td><td>53.20666666666666</td><td>19.66916666666667</td><td>2.694</td><td>2.987</td><td>97.4</td><td>19.1</td><td>12.8</td><td>21.72</td><td>76.4</td><td>0</td><td>76.5</td></tr>\n",
       "<tr><td>2024-02-08 20:32:17.000</td><td>53.35874999999999</td><td>19.703611111111112</td><td>2.707</td><td>2.986</td><td>96.6</td><td>19.2</td><td>12.8</td><td>22.44</td><td>76.4</td><td>0</td><td>77.4</td></tr>\n",
       "<tr><td>2024-02-09 20:32:17.000</td><td>53.51583333333332</td><td>19.739166666666666</td><td>2.72</td><td>2.984</td><td>95.7</td><td>19.2</td><td>12.8</td><td>23.15</td><td>76.5</td><td>0</td><td>77.3</td></tr>\n",
       "<tr><td>2024-02-10 20:32:17.000</td><td>53.67749999999999</td><td>19.77583333333333</td><td>2.733</td><td>2.983</td><td>94.9</td><td>19.2</td><td>12.8</td><td>23.85</td><td>76.5</td><td>0</td><td>77.4</td></tr>\n",
       "<tr><td>2024-02-11 20:32:17.000</td><td>53.84458333333333</td><td>19.813333333333333</td><td>2.746</td><td>2.982</td><td>94.0</td><td>19.3</td><td>12.8</td><td>24.55</td><td>76.6</td><td>0</td><td>77.3</td></tr>\n",
       "<tr><td>2024-02-12 20:32:17.000</td><td>54.015833333333326</td><td>19.851666666666667</td><td>2.759</td><td>2.981</td><td>93.2</td><td>19.3</td><td>12.8</td><td>25.23</td><td>76.6</td><td>0</td><td>78.4</td></tr>\n",
       "<tr><td>2024-02-13 20:32:17.000</td><td>54.192499999999995</td><td>19.891111111111112</td><td>2.772</td><td>2.98</td><td>92.3</td><td>19.3</td><td>12.8</td><td>25.9</td><td>76.7</td><td>0</td><td>77.2</td></tr>\n",
       "<tr><td>2024-02-14 20:32:17.000</td><td>54.37333333333333</td><td>19.93111111111111</td><td>2.785</td><td>2.979</td><td>91.5</td><td>19.4</td><td>12.8</td><td>26.56</td><td>76.8</td><td>0</td><td>78.4</td></tr>\n",
       "<tr><td>2024-02-15 20:32:17.000</td><td>54.55916666666666</td><td>19.97222222222222</td><td>2.798</td><td>2.978</td><td>90.7</td><td>19.4</td><td>12.8</td><td>27.21</td><td>76.8</td><td>0</td><td>77.2</td></tr>\n",
       "<tr><td>2024-02-16 20:32:17.000</td><td>54.74916666666666</td><td>20.01388888888889</td><td>2.811</td><td>2.977</td><td>89.8</td><td>19.4</td><td>12.9</td><td>27.85</td><td>76.9</td><td>0</td><td>76.3</td></tr>\n",
       "</table></div>"
      ],
      "text/plain": [
       "<Table length=21>\n",
       "          Date                  RA                Dec          Delta     r    Elongation  Phase     V    Proper motion Direction Uncertainty 3sig Unc. P.A.\n",
       "                               deg                deg            AU      AU      deg       deg     mag     arcsec / h     deg         arcsec         deg   \n",
       "          Time               float64            float64       float64 float64  float64   float64 float64    float64     float64       int64        float64 \n",
       "----------------------- ------------------ ------------------ ------- ------- ---------- ------- ------- ------------- --------- ---------------- ---------\n",
       "2024-01-27 20:32:17.000  51.87833333333333 19.361666666666668   2.554   2.998      107.3    18.3    12.6         13.28      76.0                0      77.7\n",
       "2024-01-28 20:32:17.000  51.97208333333333  19.38361111111111   2.567   2.997      106.4    18.4    12.6         14.09      76.0                0      76.7\n",
       "2024-01-29 20:32:17.000           52.07125  19.40694444444444   2.579   2.996      105.5    18.5    12.7         14.89      76.1                0      77.6\n",
       "2024-01-30 20:32:17.000 52.176249999999996  19.43138888888889   2.592   2.995      104.6    18.6    12.7         15.68      76.1                0      76.6\n",
       "2024-01-31 20:32:17.000  52.28666666666666  19.45722222222222   2.604   2.994      103.7    18.6    12.7         16.46      76.1                0      76.6\n",
       "2024-02-01 20:32:17.000 52.402499999999996 19.484166666666667   2.617   2.993      102.7    18.7    12.7         17.24      76.2                0      76.6\n",
       "2024-02-02 20:32:17.000 52.523333333333326  19.51222222222222    2.63   2.992      101.9    18.8    12.7         18.01      76.2                0      76.6\n",
       "2024-02-03 20:32:17.000 52.649583333333325  19.54138888888889   2.643   2.991      101.0    18.9    12.7         18.77      76.2                0      77.5\n",
       "2024-02-04 20:32:17.000  52.78124999999999 19.571666666666665   2.655    2.99      100.1    18.9    12.7         19.52      76.3                0      76.5\n",
       "2024-02-05 20:32:17.000  52.91791666666666 19.603055555555557   2.668   2.989       99.2    19.0    12.7         20.26      76.3                0      77.5\n",
       "2024-02-06 20:32:17.000 53.059999999999995 19.635555555555555   2.681   2.988       98.3    19.1    12.7          21.0      76.4                0      77.4\n",
       "2024-02-07 20:32:17.000  53.20666666666666  19.66916666666667   2.694   2.987       97.4    19.1    12.8         21.72      76.4                0      76.5\n",
       "2024-02-08 20:32:17.000  53.35874999999999 19.703611111111112   2.707   2.986       96.6    19.2    12.8         22.44      76.4                0      77.4\n",
       "2024-02-09 20:32:17.000  53.51583333333332 19.739166666666666    2.72   2.984       95.7    19.2    12.8         23.15      76.5                0      77.3\n",
       "2024-02-10 20:32:17.000  53.67749999999999  19.77583333333333   2.733   2.983       94.9    19.2    12.8         23.85      76.5                0      77.4\n",
       "2024-02-11 20:32:17.000  53.84458333333333 19.813333333333333   2.746   2.982       94.0    19.3    12.8         24.55      76.6                0      77.3\n",
       "2024-02-12 20:32:17.000 54.015833333333326 19.851666666666667   2.759   2.981       93.2    19.3    12.8         25.23      76.6                0      78.4\n",
       "2024-02-13 20:32:17.000 54.192499999999995 19.891111111111112   2.772    2.98       92.3    19.3    12.8          25.9      76.7                0      77.2\n",
       "2024-02-14 20:32:17.000  54.37333333333333  19.93111111111111   2.785   2.979       91.5    19.4    12.8         26.56      76.8                0      78.4\n",
       "2024-02-15 20:32:17.000  54.55916666666666  19.97222222222222   2.798   2.978       90.7    19.4    12.8         27.21      76.8                0      77.2\n",
       "2024-02-16 20:32:17.000  54.74916666666666  20.01388888888889   2.811   2.977       89.8    19.4    12.9         27.85      76.9                0      76.3"
      ]
     },
     "execution_count": 3,
     "metadata": {},
     "output_type": "execute_result"
    }
   ],
   "source": [
    "from astroquery.mpc import MPC\n",
    "\n",
    "eph = MPC.get_ephemeris('24')\n",
    "\n",
    "eph"
   ]
  },
  {
   "cell_type": "markdown",
   "id": "13d9c540",
   "metadata": {},
   "source": [
    "- [JPL Small-Body Database](https://ssd.jpl.nasa.gov/tools/sbdb_lookup.html): To get basic orbital and physical properties of asteroids and comets."
   ]
  },
  {
   "cell_type": "code",
   "execution_count": 4,
   "id": "9ceeaec3",
   "metadata": {},
   "outputs": [
    {
     "data": {
      "text/plain": [
       "'+-+ object: \\n| +-- pha: False\\n| +-- prefix: None\\n| +-+ orbit_class: \\n| | +-- name: Main-belt Asteroid\\n| | +-- code: MBA\\n| +-- orbit_id: 46\\n| +-- shortname: 16280 Groussin\\n| +-- neo: False\\n| +-- fullname: 16280 Groussin (2000 LS6)\\n| +-- spkid: 20016280\\n| +-- kind: an\\n| +-- des: 16280\\n+-+ orbit: \\n| +-- t_jup: 3.617\\n| +-- rms: 0.51\\n| +-- not_valid_before: None\\n| +-- data_arc: 12085\\n| +-- condition_code: 0\\n| +-- first_obs: 1990-09-14\\n| +-- moid_jup: 2.73 AU\\n| +-- source: JPL\\n| +-- last_obs: 2023-10-16\\n| +-- cov_epoch: 2457887.5 d\\n| +-- n_obs_used: 3943\\n| +-- two_body: None\\n| +-- epoch: 2460200.5 d\\n| +-- orbit_id: 46\\n| +-- n_dop_obs_used: None\\n| +-- not_valid_after: None\\n| +-- n_del_obs_used: None\\n| +-+ elements: \\n| | +-- e: 0.16\\n| | +-- e_sig: 9.7e-10\\n| | +-- a: 2.24 AU\\n| | +-- a_sig: 6.4e-10 AU\\n| | +-- q: 1.88 AU\\n| | +-- q_sig: 2.2e-09 AU\\n| | +-- i: 5.04 deg\\n| | +-- i_sig: 5e-08 deg\\n| | +-- om: 170.0 deg\\n| | +-- om_sig: 3e-07 deg\\n| | +-- w: 157.0 deg\\n| | +-- w_sig: 4.9e-07 deg\\n| | +-- ma: 319.0 deg\\n| | +-- ma_sig: 4.2e-07 deg\\n| | +-- tp: 2460340.058 d\\n| | +-- tp_sig: 1.5e-06 d\\n| | +-- per: 1220.0 d\\n| | +-- per_sig: 5.3e-07 d\\n| | +-- n: 0.295 deg / d\\n| | +-- n_sig: 1.3e-10 deg / d\\n| | +-- ad: 2.59 AU\\n| | +-- ad_sig: 7.4e-10 AU\\n| +-- producer: Otto Matic\\n| +-- soln_date: 2024-01-21 08:23:15\\n| +-- model_pars: []\\n| +-- moid: 0.867 AU\\n| +-- equinox: J2000\\n| +-- pe_used: DE441\\n| +-- comment: None\\n| +-- sb_used: SB441-N16\\n+-+ signature: \\n| +-- version: 1.3\\n| +-- source: NASA/JPL Small-Body Database (SBDB) API\\n'"
      ]
     },
     "execution_count": 4,
     "metadata": {},
     "output_type": "execute_result"
    }
   ],
   "source": [
    "from astroquery.jplsbdb import SBDB\n",
    "\n",
    "data = SBDB.query('16280')\n",
    "\n",
    "SBDB.schematic(data)"
   ]
  },
  {
   "cell_type": "markdown",
   "id": "a131ee3b",
   "metadata": {},
   "source": [
    "<!-- SBDB has limitations: limited number of parameters, bibliography, you cannot query multiple objects at once -->\n",
    "\n",
    "---\n",
    "\n",
    "`astroquery` is thus a great package especially when you want to combine results from different services. \n",
    "\n",
    "However, the services that provide small-body data and are integrated in `astroquery` (NeoDys, SBDB, MPC) only allow for single-object queries: Where is\n",
    "this asteroid going to be? What are the orbital parameters of that asteroid? Instead, our research questions commonly require us to regard a large number of\n",
    "objects: What is the albedo distribution of asteroids in the Koronis family? We are therefore going to combine `astroquery` with a second package.\n",
    "\n",
    "## `rocks` - client for SsODNet\n",
    "\n",
    "If `astroquery` is the Swiss Army Knife of data-access, `rocks` is a simple screwdriver. It follows the Unix philosophy: do one thing and do it well.\n",
    "In this case, the thing done well is the interaction with the SsODNet services of the IMCCE.\n",
    "\n",
    "`rocks` is built around the SsODNet API (using the `requests` library [link to ssodnet.py file on github]). It ingests the ssoCard (`JSON` server response) and converts\n",
    "them into `python` objects called `Rock`."
   ]
  },
  {
   "cell_type": "code",
   "execution_count": 5,
   "id": "dd3cd02b",
   "metadata": {},
   "outputs": [
    {
     "data": {
      "text/plain": [
       "Rock(number=1, name='Ceres')"
      ]
     },
     "execution_count": 5,
     "metadata": {},
     "output_type": "execute_result"
    }
   ],
   "source": [
    "import rocks\n",
    "\n",
    "# retrieve and ingest ssoCard of (1) Ceres\n",
    "ceres = rocks.Rock(1)\n",
    "\n",
    "ceres"
   ]
  },
  {
   "cell_type": "markdown",
   "id": "e37a65c2",
   "metadata": {},
   "source": [
    "You can now access all data of your object-of-interest via the dot-notation."
   ]
  },
  {
   "cell_type": "code",
   "execution_count": 6,
   "id": "593d14a9",
   "metadata": {},
   "outputs": [
    {
     "name": "stdout",
     "output_type": "stream",
     "text": [
      "Ceres\n",
      "1\n",
      "0.034\n",
      "['Li+2016']\n"
     ]
    }
   ],
   "source": [
    "print(ceres.name)\n",
    "print(ceres.number)\n",
    "print(ceres.albedo.value)\n",
    "print(ceres.albedo.bibref.shortbib)"
   ]
  },
  {
   "cell_type": "markdown",
   "id": "ee01d9e8",
   "metadata": {},
   "source": [
    "If you have more than one asteroid in mind, you use the `rocks.rocks` function to create many `Rock`s."
   ]
  },
  {
   "cell_type": "code",
   "execution_count": 7,
   "id": "8ff113ee",
   "metadata": {},
   "outputs": [
    {
     "data": {
      "text/html": [
       "<pre style=\"white-space:pre;overflow-x:auto;line-height:normal;font-family:Menlo,'DejaVu Sans Mono',consolas,'Courier New',monospace\">\n",
       "</pre>\n"
      ],
      "text/plain": [
       "\n"
      ]
     },
     "metadata": {},
     "output_type": "display_data"
    },
    {
     "name": "stdout",
     "output_type": "stream",
     "text": [
      "The albedo of (1) Ceres is 0.034 [['Li+2016']].\n",
      "The albedo of (2) Pallas is 0.14 [['Berthier+2023']].\n",
      "The albedo of (3) Juno is 0.22 [['Berthier+2023']].\n",
      "The albedo of (4) Vesta is 0.38 [['Li+2013']].\n"
     ]
    }
   ],
   "source": [
    "targets = rocks.rocks(['ceres', 'pallas', 'juno', 'vesta'])\n",
    "\n",
    "for target in targets:\n",
    "    print(f\"The albedo of ({target.number}) {target.name} is {target.albedo.value:.2} [{target.albedo.bibref.shortbib}].\")"
   ]
  },
  {
   "cell_type": "markdown",
   "id": "2428a68d",
   "metadata": {},
   "source": [
    "The strength of `rocks` lies in its simple syntax: The small body is the object that we are working with, rather than being one row in a `pandas.DataFrame`\n",
    "that we have to awkwardly index to access any parameter.\n",
    "\n",
    "The downside of `rocks` is that it currently only supports asteroids: comets are a work-in-progress.\n",
    "\n",
    "---\n",
    "\n",
    "Getting back to the science case: [...]\n",
    "\n",
    "Besides the single-object ssoCard, SsODNet offers the *Big Flat Table* (BFT) to access the attributes of all known asteroids. This makes it easy to query \n",
    "for asteroids based on shared properties."
   ]
  },
  {
   "cell_type": "code",
   "execution_count": 32,
   "id": "7a6debc6",
   "metadata": {},
   "outputs": [
    {
     "name": "stdout",
     "output_type": "stream",
     "text": [
      "Found 3534 asteroids.\n"
     ]
    },
    {
     "data": {
      "text/plain": [
       "Index(['sso_id', 'sso_number', 'sso_name', 'sso_type', 'sso_class', 'ssocard',\n",
       "       'orbital_elements.ref_epoch', 'orbital_elements.number_observation',\n",
       "       'orbital_elements.orbital_arc', 'orbital_elements.ceu.value',\n",
       "       ...\n",
       "       'spins.4.DEC0.value', 'spins.4.DEC0.error.min',\n",
       "       'spins.4.DEC0.error.max', 'spins.4.long.value',\n",
       "       'spins.4.long.error.min', 'spins.4.long.error.max', 'spins.4.lat.value',\n",
       "       'spins.4.lat.error.min', 'spins.4.lat.error.max', 'spins.4.technique'],\n",
       "      dtype='object', length=680)"
      ]
     },
     "execution_count": 32,
     "metadata": {},
     "output_type": "execute_result"
    }
   ],
   "source": [
    "\n",
    "# Load BFT as pandas DataFrame\n",
    "bft = rocks.load_bft()\n",
    "\n",
    "# Get asteroids that have been classified as D-type\n",
    "dtypes = bft[bft['taxonomy.class'].isin(['D'])]\n",
    "print(f\"Found {len(dtypes)} asteroids.\") "
   ]
  },
  {
   "cell_type": "code",
   "execution_count": 33,
   "id": "9119d9fb",
   "metadata": {},
   "outputs": [],
   "source": [
    "x = \"proper_elements.proper_semi_major_axis.value\"\n",
    "y = \"albedo.value\""
   ]
  },
  {
   "cell_type": "markdown",
   "id": "71a41fd8",
   "metadata": {},
   "source": [
    "We map the orbital distribution.\n",
    "\n",
    "Now we add the albedo."
   ]
  },
  {
   "cell_type": "code",
   "execution_count": 34,
   "id": "be860df4",
   "metadata": {},
   "outputs": [
    {
     "data": {
      "text/plain": [
       "<matplotlib.collections.PathCollection at 0x145fb0890>"
      ]
     },
     "execution_count": 34,
     "metadata": {},
     "output_type": "execute_result"
    },
    {
     "data": {
      "image/png": "[encoded data removed]",
      "text/plain": [
       "<Figure size 640x480 with 1 Axes>"
      ]
     },
     "metadata": {},
     "output_type": "display_data"
    }
   ],
   "source": [
    "import matplotlib.pyplot as plt\n",
    "\n",
    "fig, ax = plt.subplots()\n",
    "\n",
    "ax.scatter(dtypes[x], dtypes[y], s=10)\n"
   ]
  },
  {
   "cell_type": "code",
   "execution_count": 55,
   "id": "5cf7fdb7",
   "metadata": {},
   "outputs": [
    {
     "name": "stdout",
     "output_type": "stream",
     "text": [
      "29\n",
      "Found 130 asteroids.\n"
     ]
    }
   ],
   "source": [
    "\n",
    "# Load BFT as pandas DataFrame\n",
    "bft = rocks.load_bft(full=True)\n",
    "print(len(bft[(bft['taxonomy.waverange'] == 'VISNIR') & (bft['taxonomy.scheme'].isin(['Tholen','Bus']))]))\n",
    "# Get asteroids that have been classified as D-type\n",
    "dtypes = bft[(bft['taxonomy.class'].isin(['D'])) & (bft['taxonomy.waverange'] == 'VISNIR')]\n",
    "print(f\"Found {len(dtypes)} asteroids.\") "
   ]
  },
  {
   "cell_type": "raw",
   "id": "c0e89c1c-ee07-4012-9dd9-ffd296ff3043",
   "metadata": {},
   "source": []
  },
  {
   "cell_type": "code",
   "execution_count": 56,
   "id": "66151cf2",
   "metadata": {},
   "outputs": [
    {
     "data": {
      "text/plain": [
       "<matplotlib.collections.PathCollection at 0x142f65190>"
      ]
     },
     "execution_count": 56,
     "metadata": {},
     "output_type": "execute_result"
    },
    {
     "data": {
      "image/png": "[encoded data removed]",
      "text/plain": [
       "<Figure size 640x480 with 1 Axes>"
      ]
     },
     "metadata": {},
     "output_type": "display_data"
    }
   ],
   "source": [
    "import matplotlib.pyplot as plt\n",
    "\n",
    "fig, ax = plt.subplots()\n",
    "\n",
    "ax.scatter(dtypes[x], dtypes[y], s=10)"
   ]
  },
  {
   "cell_type": "markdown",
   "id": "4f8f38f4",
   "metadata": {},
   "source": [
    "Working with pd.DataFrames on a per-line basis quickly gets tedious due to all the indexing.\n",
    "Switching back to using the `Rock` class."
   ]
  },
  {
   "cell_type": "code",
   "execution_count": 51,
   "id": "709c83d3",
   "metadata": {},
   "outputs": [
    {
     "data": {
      "text/html": [
       "<pre style=\"white-space:pre;overflow-x:auto;line-height:normal;font-family:Menlo,'DejaVu Sans Mono',consolas,'Courier New',monospace\">\n",
       "</pre>\n"
      ],
      "text/plain": [
       "\n"
      ]
     },
     "metadata": {},
     "output_type": "display_data"
    },
    {
     "name": "stdout",
     "output_type": "stream",
     "text": [
      "16\n",
      "3318 Blixen MB>Outer 0.1121\n",
      "Eos Bus ['\"MotheDiniz+2008a\"']\n",
      "3469 Bulgakov MB>Outer 0.1372\n",
      "Eos Bus ['\"MotheDiniz+2008a\"']\n",
      "2315 Czechoslovakia MB>Outer 0.1474\n",
      "Eos Bus ['\"MotheDiniz+2008a\"']\n",
      "2098 Zyskin MB>Inner 0.1139\n",
      " Mahlke ['\"Mahlke+2022\"']\n",
      "199 Byblis MB>Outer 0.1542\n",
      " Mahlke ['\"Mahlke+2022\"']\n",
      "322 Phaeo MB>Middle 0.105\n",
      " Mahlke ['\"Mahlke+2022\"']\n",
      "1162 Larissa MB>Hilda 0.1203\n",
      " Mahlke ['\"Mahlke+2022\"']\n",
      "1461 Jean-Jacques MB>Outer 0.1448\n",
      " Mahlke ['\"Mahlke+2022\"']\n",
      "1416 Renauxa MB>Outer 0.1123\n",
      "Eos Bus ['\"MotheDiniz+2008a\"']\n",
      "1413 Roucarie MB>Outer 0.1392\n",
      "Eos Bus ['\"MotheDiniz+2008a\"']\n",
      "1090 Sumida Phocaea 0.1133\n",
      " Mahlke ['\"Mahlke+2022\"']\n",
      "6842 Krosigk MB>Middle 0.1539\n",
      "Aeria Mahlke ['\"Mahlke+2022\"']\n",
      "931 Whittemora MB>Outer 0.1093\n",
      " Mahlke ['\"Mahlke+2022\"']\n",
      "595 Polyxena MB>Outer 0.1469\n",
      " Mahlke ['\"Mahlke+2022\"']\n",
      "333888 1998 ST4 NEA>Amor 0.1041\n",
      " Mahlke ['\"Mahlke+2022\"']\n",
      "162998 2001 SK162 NEA>Apollo 0.1596\n",
      " Mahlke ['\"Mahlke+2022\"']\n"
     ]
    }
   ],
   "source": [
    "dtypes_bright = dtypes.loc[dtypes['albedo.value'] > 0.1, 'sso_name']\n",
    "\n",
    "targets = rocks.rocks(dtypes_bright)\n",
    "print(len(targets))\n",
    "for target in targets:\n",
    "  print(target.number, target.name, target.class_, target.albedo.value)\n",
    "  print(target.family.family_name, target.taxonomy.scheme, target.taxonomy.bibref.shortbib)"
   ]
  },
  {
   "cell_type": "markdown",
   "id": "b1ec2017",
   "metadata": {},
   "source": [
    "There are some with high albedo. Let's explore further.\n"
   ]
  },
  {
   "cell_type": "markdown",
   "id": "e5c98dda",
   "metadata": {},
   "source": [
    "Caveat: comets not yet supported, TBD\n",
    "\n",
    "## Bibliography"
   ]
  }
 ],
 "metadata": {
  "kernelspec": {
   "display_name": "Python 3 (ipykernel)",
   "language": "python",
   "name": "python3"
  },
  "language_info": {
   "codemirror_mode": {
    "name": "ipython",
    "version": 3
   },
   "file_extension": ".py",
   "mimetype": "text/x-python",
   "name": "python",
   "nbconvert_exporter": "python",
   "pygments_lexer": "ipython3",
   "version": "3.11.7"
  }
 },
 "nbformat": 4,
 "nbformat_minor": 5
}
